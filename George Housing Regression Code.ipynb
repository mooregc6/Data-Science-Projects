{
 "cells": [
  {
   "cell_type": "code",
   "execution_count": 1,
   "id": "37749d7f",
   "metadata": {},
   "outputs": [],
   "source": [
    "import numpy as np\n",
    "import pandas as pd\n",
    "import seaborn as sns\n",
    "import matplotlib.pyplot as plt"
   ]
  },
  {
   "cell_type": "code",
   "execution_count": 2,
   "id": "6e334d1a",
   "metadata": {},
   "outputs": [],
   "source": [
    "house_df = pd.read_csv('Kaggle/housing_train_data.csv')"
   ]
  },
  {
   "cell_type": "code",
   "execution_count": 3,
   "id": "bd83c05e",
   "metadata": {},
   "outputs": [
    {
     "data": {
      "text/html": [
       "<div>\n",
       "<style scoped>\n",
       "    .dataframe tbody tr th:only-of-type {\n",
       "        vertical-align: middle;\n",
       "    }\n",
       "\n",
       "    .dataframe tbody tr th {\n",
       "        vertical-align: top;\n",
       "    }\n",
       "\n",
       "    .dataframe thead th {\n",
       "        text-align: right;\n",
       "    }\n",
       "</style>\n",
       "<table border=\"1\" class=\"dataframe\">\n",
       "  <thead>\n",
       "    <tr style=\"text-align: right;\">\n",
       "      <th></th>\n",
       "      <th>Id</th>\n",
       "      <th>MSSubClass</th>\n",
       "      <th>MSZoning</th>\n",
       "      <th>LotFrontage</th>\n",
       "      <th>LotArea</th>\n",
       "      <th>Street</th>\n",
       "      <th>Alley</th>\n",
       "      <th>LotShape</th>\n",
       "      <th>LandContour</th>\n",
       "      <th>Utilities</th>\n",
       "      <th>...</th>\n",
       "      <th>PoolArea</th>\n",
       "      <th>PoolQC</th>\n",
       "      <th>Fence</th>\n",
       "      <th>MiscFeature</th>\n",
       "      <th>MiscVal</th>\n",
       "      <th>MoSold</th>\n",
       "      <th>YrSold</th>\n",
       "      <th>SaleType</th>\n",
       "      <th>SaleCondition</th>\n",
       "      <th>SalePrice</th>\n",
       "    </tr>\n",
       "  </thead>\n",
       "  <tbody>\n",
       "    <tr>\n",
       "      <th>0</th>\n",
       "      <td>1</td>\n",
       "      <td>60</td>\n",
       "      <td>RL</td>\n",
       "      <td>65.0</td>\n",
       "      <td>8450</td>\n",
       "      <td>Pave</td>\n",
       "      <td>NaN</td>\n",
       "      <td>Reg</td>\n",
       "      <td>Lvl</td>\n",
       "      <td>AllPub</td>\n",
       "      <td>...</td>\n",
       "      <td>0</td>\n",
       "      <td>NaN</td>\n",
       "      <td>NaN</td>\n",
       "      <td>NaN</td>\n",
       "      <td>0</td>\n",
       "      <td>2</td>\n",
       "      <td>2008</td>\n",
       "      <td>WD</td>\n",
       "      <td>Normal</td>\n",
       "      <td>208500</td>\n",
       "    </tr>\n",
       "    <tr>\n",
       "      <th>1</th>\n",
       "      <td>2</td>\n",
       "      <td>20</td>\n",
       "      <td>RL</td>\n",
       "      <td>80.0</td>\n",
       "      <td>9600</td>\n",
       "      <td>Pave</td>\n",
       "      <td>NaN</td>\n",
       "      <td>Reg</td>\n",
       "      <td>Lvl</td>\n",
       "      <td>AllPub</td>\n",
       "      <td>...</td>\n",
       "      <td>0</td>\n",
       "      <td>NaN</td>\n",
       "      <td>NaN</td>\n",
       "      <td>NaN</td>\n",
       "      <td>0</td>\n",
       "      <td>5</td>\n",
       "      <td>2007</td>\n",
       "      <td>WD</td>\n",
       "      <td>Normal</td>\n",
       "      <td>181500</td>\n",
       "    </tr>\n",
       "    <tr>\n",
       "      <th>2</th>\n",
       "      <td>3</td>\n",
       "      <td>60</td>\n",
       "      <td>RL</td>\n",
       "      <td>68.0</td>\n",
       "      <td>11250</td>\n",
       "      <td>Pave</td>\n",
       "      <td>NaN</td>\n",
       "      <td>IR1</td>\n",
       "      <td>Lvl</td>\n",
       "      <td>AllPub</td>\n",
       "      <td>...</td>\n",
       "      <td>0</td>\n",
       "      <td>NaN</td>\n",
       "      <td>NaN</td>\n",
       "      <td>NaN</td>\n",
       "      <td>0</td>\n",
       "      <td>9</td>\n",
       "      <td>2008</td>\n",
       "      <td>WD</td>\n",
       "      <td>Normal</td>\n",
       "      <td>223500</td>\n",
       "    </tr>\n",
       "    <tr>\n",
       "      <th>3</th>\n",
       "      <td>4</td>\n",
       "      <td>70</td>\n",
       "      <td>RL</td>\n",
       "      <td>60.0</td>\n",
       "      <td>9550</td>\n",
       "      <td>Pave</td>\n",
       "      <td>NaN</td>\n",
       "      <td>IR1</td>\n",
       "      <td>Lvl</td>\n",
       "      <td>AllPub</td>\n",
       "      <td>...</td>\n",
       "      <td>0</td>\n",
       "      <td>NaN</td>\n",
       "      <td>NaN</td>\n",
       "      <td>NaN</td>\n",
       "      <td>0</td>\n",
       "      <td>2</td>\n",
       "      <td>2006</td>\n",
       "      <td>WD</td>\n",
       "      <td>Abnorml</td>\n",
       "      <td>140000</td>\n",
       "    </tr>\n",
       "    <tr>\n",
       "      <th>4</th>\n",
       "      <td>5</td>\n",
       "      <td>60</td>\n",
       "      <td>RL</td>\n",
       "      <td>84.0</td>\n",
       "      <td>14260</td>\n",
       "      <td>Pave</td>\n",
       "      <td>NaN</td>\n",
       "      <td>IR1</td>\n",
       "      <td>Lvl</td>\n",
       "      <td>AllPub</td>\n",
       "      <td>...</td>\n",
       "      <td>0</td>\n",
       "      <td>NaN</td>\n",
       "      <td>NaN</td>\n",
       "      <td>NaN</td>\n",
       "      <td>0</td>\n",
       "      <td>12</td>\n",
       "      <td>2008</td>\n",
       "      <td>WD</td>\n",
       "      <td>Normal</td>\n",
       "      <td>250000</td>\n",
       "    </tr>\n",
       "  </tbody>\n",
       "</table>\n",
       "<p>5 rows × 81 columns</p>\n",
       "</div>"
      ],
      "text/plain": [
       "   Id  MSSubClass MSZoning  LotFrontage  LotArea Street Alley LotShape  \\\n",
       "0   1          60       RL         65.0     8450   Pave   NaN      Reg   \n",
       "1   2          20       RL         80.0     9600   Pave   NaN      Reg   \n",
       "2   3          60       RL         68.0    11250   Pave   NaN      IR1   \n",
       "3   4          70       RL         60.0     9550   Pave   NaN      IR1   \n",
       "4   5          60       RL         84.0    14260   Pave   NaN      IR1   \n",
       "\n",
       "  LandContour Utilities  ... PoolArea PoolQC Fence MiscFeature MiscVal MoSold  \\\n",
       "0         Lvl    AllPub  ...        0    NaN   NaN         NaN       0      2   \n",
       "1         Lvl    AllPub  ...        0    NaN   NaN         NaN       0      5   \n",
       "2         Lvl    AllPub  ...        0    NaN   NaN         NaN       0      9   \n",
       "3         Lvl    AllPub  ...        0    NaN   NaN         NaN       0      2   \n",
       "4         Lvl    AllPub  ...        0    NaN   NaN         NaN       0     12   \n",
       "\n",
       "  YrSold  SaleType  SaleCondition  SalePrice  \n",
       "0   2008        WD         Normal     208500  \n",
       "1   2007        WD         Normal     181500  \n",
       "2   2008        WD         Normal     223500  \n",
       "3   2006        WD        Abnorml     140000  \n",
       "4   2008        WD         Normal     250000  \n",
       "\n",
       "[5 rows x 81 columns]"
      ]
     },
     "execution_count": 3,
     "metadata": {},
     "output_type": "execute_result"
    }
   ],
   "source": [
    "house_df.head()"
   ]
  },
  {
   "cell_type": "code",
   "execution_count": 4,
   "id": "76753df2",
   "metadata": {},
   "outputs": [
    {
     "name": "stdout",
     "output_type": "stream",
     "text": [
      "<class 'pandas.core.frame.DataFrame'>\n",
      "RangeIndex: 1460 entries, 0 to 1459\n",
      "Data columns (total 81 columns):\n",
      " #   Column         Non-Null Count  Dtype  \n",
      "---  ------         --------------  -----  \n",
      " 0   Id             1460 non-null   int64  \n",
      " 1   MSSubClass     1460 non-null   int64  \n",
      " 2   MSZoning       1460 non-null   object \n",
      " 3   LotFrontage    1201 non-null   float64\n",
      " 4   LotArea        1460 non-null   int64  \n",
      " 5   Street         1460 non-null   object \n",
      " 6   Alley          91 non-null     object \n",
      " 7   LotShape       1460 non-null   object \n",
      " 8   LandContour    1460 non-null   object \n",
      " 9   Utilities      1460 non-null   object \n",
      " 10  LotConfig      1460 non-null   object \n",
      " 11  LandSlope      1460 non-null   object \n",
      " 12  Neighborhood   1460 non-null   object \n",
      " 13  Condition1     1460 non-null   object \n",
      " 14  Condition2     1460 non-null   object \n",
      " 15  BldgType       1460 non-null   object \n",
      " 16  HouseStyle     1460 non-null   object \n",
      " 17  OverallQual    1460 non-null   int64  \n",
      " 18  OverallCond    1460 non-null   int64  \n",
      " 19  YearBuilt      1460 non-null   int64  \n",
      " 20  YearRemodAdd   1460 non-null   int64  \n",
      " 21  RoofStyle      1460 non-null   object \n",
      " 22  RoofMatl       1460 non-null   object \n",
      " 23  Exterior1st    1460 non-null   object \n",
      " 24  Exterior2nd    1460 non-null   object \n",
      " 25  MasVnrType     1452 non-null   object \n",
      " 26  MasVnrArea     1452 non-null   float64\n",
      " 27  ExterQual      1460 non-null   object \n",
      " 28  ExterCond      1460 non-null   object \n",
      " 29  Foundation     1460 non-null   object \n",
      " 30  BsmtQual       1423 non-null   object \n",
      " 31  BsmtCond       1423 non-null   object \n",
      " 32  BsmtExposure   1422 non-null   object \n",
      " 33  BsmtFinType1   1423 non-null   object \n",
      " 34  BsmtFinSF1     1460 non-null   int64  \n",
      " 35  BsmtFinType2   1422 non-null   object \n",
      " 36  BsmtFinSF2     1460 non-null   int64  \n",
      " 37  BsmtUnfSF      1460 non-null   int64  \n",
      " 38  TotalBsmtSF    1460 non-null   int64  \n",
      " 39  Heating        1460 non-null   object \n",
      " 40  HeatingQC      1460 non-null   object \n",
      " 41  CentralAir     1460 non-null   object \n",
      " 42  Electrical     1459 non-null   object \n",
      " 43  1stFlrSF       1460 non-null   int64  \n",
      " 44  2ndFlrSF       1460 non-null   int64  \n",
      " 45  LowQualFinSF   1460 non-null   int64  \n",
      " 46  GrLivArea      1460 non-null   int64  \n",
      " 47  BsmtFullBath   1460 non-null   int64  \n",
      " 48  BsmtHalfBath   1460 non-null   int64  \n",
      " 49  FullBath       1460 non-null   int64  \n",
      " 50  HalfBath       1460 non-null   int64  \n",
      " 51  BedroomAbvGr   1460 non-null   int64  \n",
      " 52  KitchenAbvGr   1460 non-null   int64  \n",
      " 53  KitchenQual    1460 non-null   object \n",
      " 54  TotRmsAbvGrd   1460 non-null   int64  \n",
      " 55  Functional     1460 non-null   object \n",
      " 56  Fireplaces     1460 non-null   int64  \n",
      " 57  FireplaceQu    770 non-null    object \n",
      " 58  GarageType     1379 non-null   object \n",
      " 59  GarageYrBlt    1379 non-null   float64\n",
      " 60  GarageFinish   1379 non-null   object \n",
      " 61  GarageCars     1460 non-null   int64  \n",
      " 62  GarageArea     1460 non-null   int64  \n",
      " 63  GarageQual     1379 non-null   object \n",
      " 64  GarageCond     1379 non-null   object \n",
      " 65  PavedDrive     1460 non-null   object \n",
      " 66  WoodDeckSF     1460 non-null   int64  \n",
      " 67  OpenPorchSF    1460 non-null   int64  \n",
      " 68  EnclosedPorch  1460 non-null   int64  \n",
      " 69  3SsnPorch      1460 non-null   int64  \n",
      " 70  ScreenPorch    1460 non-null   int64  \n",
      " 71  PoolArea       1460 non-null   int64  \n",
      " 72  PoolQC         7 non-null      object \n",
      " 73  Fence          281 non-null    object \n",
      " 74  MiscFeature    54 non-null     object \n",
      " 75  MiscVal        1460 non-null   int64  \n",
      " 76  MoSold         1460 non-null   int64  \n",
      " 77  YrSold         1460 non-null   int64  \n",
      " 78  SaleType       1460 non-null   object \n",
      " 79  SaleCondition  1460 non-null   object \n",
      " 80  SalePrice      1460 non-null   int64  \n",
      "dtypes: float64(3), int64(35), object(43)\n",
      "memory usage: 924.0+ KB\n"
     ]
    }
   ],
   "source": [
    "house_df.info()"
   ]
  },
  {
   "cell_type": "code",
   "execution_count": 5,
   "id": "30ced208",
   "metadata": {},
   "outputs": [],
   "source": [
    "#Converting the column MSSubClass in to a str cause it should be a string not numerical\n",
    "\n",
    "house_df['MSSubClass'] = house_df['MSSubClass'].apply(str)"
   ]
  },
  {
   "cell_type": "code",
   "execution_count": 6,
   "id": "da821b3c",
   "metadata": {},
   "outputs": [],
   "source": [
    "#Splitting the data into object and numerical data sets\n",
    "\n",
    "object_df = house_df.select_dtypes(include = 'object')\n",
    "\n",
    "numeric_df = house_df.select_dtypes(exclude = 'object')"
   ]
  },
  {
   "cell_type": "code",
   "execution_count": 7,
   "id": "8b9693f0",
   "metadata": {},
   "outputs": [
    {
     "data": {
      "text/html": [
       "<div>\n",
       "<style scoped>\n",
       "    .dataframe tbody tr th:only-of-type {\n",
       "        vertical-align: middle;\n",
       "    }\n",
       "\n",
       "    .dataframe tbody tr th {\n",
       "        vertical-align: top;\n",
       "    }\n",
       "\n",
       "    .dataframe thead th {\n",
       "        text-align: right;\n",
       "    }\n",
       "</style>\n",
       "<table border=\"1\" class=\"dataframe\">\n",
       "  <thead>\n",
       "    <tr style=\"text-align: right;\">\n",
       "      <th></th>\n",
       "      <th>MSSubClass</th>\n",
       "      <th>MSZoning</th>\n",
       "      <th>Street</th>\n",
       "      <th>Alley</th>\n",
       "      <th>LotShape</th>\n",
       "      <th>LandContour</th>\n",
       "      <th>Utilities</th>\n",
       "      <th>LotConfig</th>\n",
       "      <th>LandSlope</th>\n",
       "      <th>Neighborhood</th>\n",
       "      <th>...</th>\n",
       "      <th>GarageType</th>\n",
       "      <th>GarageFinish</th>\n",
       "      <th>GarageQual</th>\n",
       "      <th>GarageCond</th>\n",
       "      <th>PavedDrive</th>\n",
       "      <th>PoolQC</th>\n",
       "      <th>Fence</th>\n",
       "      <th>MiscFeature</th>\n",
       "      <th>SaleType</th>\n",
       "      <th>SaleCondition</th>\n",
       "    </tr>\n",
       "  </thead>\n",
       "  <tbody>\n",
       "    <tr>\n",
       "      <th>0</th>\n",
       "      <td>60</td>\n",
       "      <td>RL</td>\n",
       "      <td>Pave</td>\n",
       "      <td>NaN</td>\n",
       "      <td>Reg</td>\n",
       "      <td>Lvl</td>\n",
       "      <td>AllPub</td>\n",
       "      <td>Inside</td>\n",
       "      <td>Gtl</td>\n",
       "      <td>CollgCr</td>\n",
       "      <td>...</td>\n",
       "      <td>Attchd</td>\n",
       "      <td>RFn</td>\n",
       "      <td>TA</td>\n",
       "      <td>TA</td>\n",
       "      <td>Y</td>\n",
       "      <td>NaN</td>\n",
       "      <td>NaN</td>\n",
       "      <td>NaN</td>\n",
       "      <td>WD</td>\n",
       "      <td>Normal</td>\n",
       "    </tr>\n",
       "    <tr>\n",
       "      <th>1</th>\n",
       "      <td>20</td>\n",
       "      <td>RL</td>\n",
       "      <td>Pave</td>\n",
       "      <td>NaN</td>\n",
       "      <td>Reg</td>\n",
       "      <td>Lvl</td>\n",
       "      <td>AllPub</td>\n",
       "      <td>FR2</td>\n",
       "      <td>Gtl</td>\n",
       "      <td>Veenker</td>\n",
       "      <td>...</td>\n",
       "      <td>Attchd</td>\n",
       "      <td>RFn</td>\n",
       "      <td>TA</td>\n",
       "      <td>TA</td>\n",
       "      <td>Y</td>\n",
       "      <td>NaN</td>\n",
       "      <td>NaN</td>\n",
       "      <td>NaN</td>\n",
       "      <td>WD</td>\n",
       "      <td>Normal</td>\n",
       "    </tr>\n",
       "    <tr>\n",
       "      <th>2</th>\n",
       "      <td>60</td>\n",
       "      <td>RL</td>\n",
       "      <td>Pave</td>\n",
       "      <td>NaN</td>\n",
       "      <td>IR1</td>\n",
       "      <td>Lvl</td>\n",
       "      <td>AllPub</td>\n",
       "      <td>Inside</td>\n",
       "      <td>Gtl</td>\n",
       "      <td>CollgCr</td>\n",
       "      <td>...</td>\n",
       "      <td>Attchd</td>\n",
       "      <td>RFn</td>\n",
       "      <td>TA</td>\n",
       "      <td>TA</td>\n",
       "      <td>Y</td>\n",
       "      <td>NaN</td>\n",
       "      <td>NaN</td>\n",
       "      <td>NaN</td>\n",
       "      <td>WD</td>\n",
       "      <td>Normal</td>\n",
       "    </tr>\n",
       "    <tr>\n",
       "      <th>3</th>\n",
       "      <td>70</td>\n",
       "      <td>RL</td>\n",
       "      <td>Pave</td>\n",
       "      <td>NaN</td>\n",
       "      <td>IR1</td>\n",
       "      <td>Lvl</td>\n",
       "      <td>AllPub</td>\n",
       "      <td>Corner</td>\n",
       "      <td>Gtl</td>\n",
       "      <td>Crawfor</td>\n",
       "      <td>...</td>\n",
       "      <td>Detchd</td>\n",
       "      <td>Unf</td>\n",
       "      <td>TA</td>\n",
       "      <td>TA</td>\n",
       "      <td>Y</td>\n",
       "      <td>NaN</td>\n",
       "      <td>NaN</td>\n",
       "      <td>NaN</td>\n",
       "      <td>WD</td>\n",
       "      <td>Abnorml</td>\n",
       "    </tr>\n",
       "    <tr>\n",
       "      <th>4</th>\n",
       "      <td>60</td>\n",
       "      <td>RL</td>\n",
       "      <td>Pave</td>\n",
       "      <td>NaN</td>\n",
       "      <td>IR1</td>\n",
       "      <td>Lvl</td>\n",
       "      <td>AllPub</td>\n",
       "      <td>FR2</td>\n",
       "      <td>Gtl</td>\n",
       "      <td>NoRidge</td>\n",
       "      <td>...</td>\n",
       "      <td>Attchd</td>\n",
       "      <td>RFn</td>\n",
       "      <td>TA</td>\n",
       "      <td>TA</td>\n",
       "      <td>Y</td>\n",
       "      <td>NaN</td>\n",
       "      <td>NaN</td>\n",
       "      <td>NaN</td>\n",
       "      <td>WD</td>\n",
       "      <td>Normal</td>\n",
       "    </tr>\n",
       "  </tbody>\n",
       "</table>\n",
       "<p>5 rows × 44 columns</p>\n",
       "</div>"
      ],
      "text/plain": [
       "  MSSubClass MSZoning Street Alley LotShape LandContour Utilities LotConfig  \\\n",
       "0         60       RL   Pave   NaN      Reg         Lvl    AllPub    Inside   \n",
       "1         20       RL   Pave   NaN      Reg         Lvl    AllPub       FR2   \n",
       "2         60       RL   Pave   NaN      IR1         Lvl    AllPub    Inside   \n",
       "3         70       RL   Pave   NaN      IR1         Lvl    AllPub    Corner   \n",
       "4         60       RL   Pave   NaN      IR1         Lvl    AllPub       FR2   \n",
       "\n",
       "  LandSlope Neighborhood  ... GarageType GarageFinish GarageQual GarageCond  \\\n",
       "0       Gtl      CollgCr  ...     Attchd          RFn         TA         TA   \n",
       "1       Gtl      Veenker  ...     Attchd          RFn         TA         TA   \n",
       "2       Gtl      CollgCr  ...     Attchd          RFn         TA         TA   \n",
       "3       Gtl      Crawfor  ...     Detchd          Unf         TA         TA   \n",
       "4       Gtl      NoRidge  ...     Attchd          RFn         TA         TA   \n",
       "\n",
       "  PavedDrive PoolQC Fence MiscFeature SaleType SaleCondition  \n",
       "0          Y    NaN   NaN         NaN       WD        Normal  \n",
       "1          Y    NaN   NaN         NaN       WD        Normal  \n",
       "2          Y    NaN   NaN         NaN       WD        Normal  \n",
       "3          Y    NaN   NaN         NaN       WD       Abnorml  \n",
       "4          Y    NaN   NaN         NaN       WD        Normal  \n",
       "\n",
       "[5 rows x 44 columns]"
      ]
     },
     "execution_count": 7,
     "metadata": {},
     "output_type": "execute_result"
    }
   ],
   "source": [
    "object_df.head()"
   ]
  },
  {
   "cell_type": "code",
   "execution_count": 8,
   "id": "acc63017",
   "metadata": {},
   "outputs": [
    {
     "data": {
      "text/html": [
       "<div>\n",
       "<style scoped>\n",
       "    .dataframe tbody tr th:only-of-type {\n",
       "        vertical-align: middle;\n",
       "    }\n",
       "\n",
       "    .dataframe tbody tr th {\n",
       "        vertical-align: top;\n",
       "    }\n",
       "\n",
       "    .dataframe thead th {\n",
       "        text-align: right;\n",
       "    }\n",
       "</style>\n",
       "<table border=\"1\" class=\"dataframe\">\n",
       "  <thead>\n",
       "    <tr style=\"text-align: right;\">\n",
       "      <th></th>\n",
       "      <th>Id</th>\n",
       "      <th>LotFrontage</th>\n",
       "      <th>LotArea</th>\n",
       "      <th>OverallQual</th>\n",
       "      <th>OverallCond</th>\n",
       "      <th>YearBuilt</th>\n",
       "      <th>YearRemodAdd</th>\n",
       "      <th>MasVnrArea</th>\n",
       "      <th>BsmtFinSF1</th>\n",
       "      <th>BsmtFinSF2</th>\n",
       "      <th>...</th>\n",
       "      <th>WoodDeckSF</th>\n",
       "      <th>OpenPorchSF</th>\n",
       "      <th>EnclosedPorch</th>\n",
       "      <th>3SsnPorch</th>\n",
       "      <th>ScreenPorch</th>\n",
       "      <th>PoolArea</th>\n",
       "      <th>MiscVal</th>\n",
       "      <th>MoSold</th>\n",
       "      <th>YrSold</th>\n",
       "      <th>SalePrice</th>\n",
       "    </tr>\n",
       "  </thead>\n",
       "  <tbody>\n",
       "    <tr>\n",
       "      <th>0</th>\n",
       "      <td>1</td>\n",
       "      <td>65.0</td>\n",
       "      <td>8450</td>\n",
       "      <td>7</td>\n",
       "      <td>5</td>\n",
       "      <td>2003</td>\n",
       "      <td>2003</td>\n",
       "      <td>196.0</td>\n",
       "      <td>706</td>\n",
       "      <td>0</td>\n",
       "      <td>...</td>\n",
       "      <td>0</td>\n",
       "      <td>61</td>\n",
       "      <td>0</td>\n",
       "      <td>0</td>\n",
       "      <td>0</td>\n",
       "      <td>0</td>\n",
       "      <td>0</td>\n",
       "      <td>2</td>\n",
       "      <td>2008</td>\n",
       "      <td>208500</td>\n",
       "    </tr>\n",
       "    <tr>\n",
       "      <th>1</th>\n",
       "      <td>2</td>\n",
       "      <td>80.0</td>\n",
       "      <td>9600</td>\n",
       "      <td>6</td>\n",
       "      <td>8</td>\n",
       "      <td>1976</td>\n",
       "      <td>1976</td>\n",
       "      <td>0.0</td>\n",
       "      <td>978</td>\n",
       "      <td>0</td>\n",
       "      <td>...</td>\n",
       "      <td>298</td>\n",
       "      <td>0</td>\n",
       "      <td>0</td>\n",
       "      <td>0</td>\n",
       "      <td>0</td>\n",
       "      <td>0</td>\n",
       "      <td>0</td>\n",
       "      <td>5</td>\n",
       "      <td>2007</td>\n",
       "      <td>181500</td>\n",
       "    </tr>\n",
       "    <tr>\n",
       "      <th>2</th>\n",
       "      <td>3</td>\n",
       "      <td>68.0</td>\n",
       "      <td>11250</td>\n",
       "      <td>7</td>\n",
       "      <td>5</td>\n",
       "      <td>2001</td>\n",
       "      <td>2002</td>\n",
       "      <td>162.0</td>\n",
       "      <td>486</td>\n",
       "      <td>0</td>\n",
       "      <td>...</td>\n",
       "      <td>0</td>\n",
       "      <td>42</td>\n",
       "      <td>0</td>\n",
       "      <td>0</td>\n",
       "      <td>0</td>\n",
       "      <td>0</td>\n",
       "      <td>0</td>\n",
       "      <td>9</td>\n",
       "      <td>2008</td>\n",
       "      <td>223500</td>\n",
       "    </tr>\n",
       "    <tr>\n",
       "      <th>3</th>\n",
       "      <td>4</td>\n",
       "      <td>60.0</td>\n",
       "      <td>9550</td>\n",
       "      <td>7</td>\n",
       "      <td>5</td>\n",
       "      <td>1915</td>\n",
       "      <td>1970</td>\n",
       "      <td>0.0</td>\n",
       "      <td>216</td>\n",
       "      <td>0</td>\n",
       "      <td>...</td>\n",
       "      <td>0</td>\n",
       "      <td>35</td>\n",
       "      <td>272</td>\n",
       "      <td>0</td>\n",
       "      <td>0</td>\n",
       "      <td>0</td>\n",
       "      <td>0</td>\n",
       "      <td>2</td>\n",
       "      <td>2006</td>\n",
       "      <td>140000</td>\n",
       "    </tr>\n",
       "    <tr>\n",
       "      <th>4</th>\n",
       "      <td>5</td>\n",
       "      <td>84.0</td>\n",
       "      <td>14260</td>\n",
       "      <td>8</td>\n",
       "      <td>5</td>\n",
       "      <td>2000</td>\n",
       "      <td>2000</td>\n",
       "      <td>350.0</td>\n",
       "      <td>655</td>\n",
       "      <td>0</td>\n",
       "      <td>...</td>\n",
       "      <td>192</td>\n",
       "      <td>84</td>\n",
       "      <td>0</td>\n",
       "      <td>0</td>\n",
       "      <td>0</td>\n",
       "      <td>0</td>\n",
       "      <td>0</td>\n",
       "      <td>12</td>\n",
       "      <td>2008</td>\n",
       "      <td>250000</td>\n",
       "    </tr>\n",
       "  </tbody>\n",
       "</table>\n",
       "<p>5 rows × 37 columns</p>\n",
       "</div>"
      ],
      "text/plain": [
       "   Id  LotFrontage  LotArea  OverallQual  OverallCond  YearBuilt  \\\n",
       "0   1         65.0     8450            7            5       2003   \n",
       "1   2         80.0     9600            6            8       1976   \n",
       "2   3         68.0    11250            7            5       2001   \n",
       "3   4         60.0     9550            7            5       1915   \n",
       "4   5         84.0    14260            8            5       2000   \n",
       "\n",
       "   YearRemodAdd  MasVnrArea  BsmtFinSF1  BsmtFinSF2  ...  WoodDeckSF  \\\n",
       "0          2003       196.0         706           0  ...           0   \n",
       "1          1976         0.0         978           0  ...         298   \n",
       "2          2002       162.0         486           0  ...           0   \n",
       "3          1970         0.0         216           0  ...           0   \n",
       "4          2000       350.0         655           0  ...         192   \n",
       "\n",
       "   OpenPorchSF  EnclosedPorch  3SsnPorch  ScreenPorch  PoolArea  MiscVal  \\\n",
       "0           61              0          0            0         0        0   \n",
       "1            0              0          0            0         0        0   \n",
       "2           42              0          0            0         0        0   \n",
       "3           35            272          0            0         0        0   \n",
       "4           84              0          0            0         0        0   \n",
       "\n",
       "   MoSold  YrSold  SalePrice  \n",
       "0       2    2008     208500  \n",
       "1       5    2007     181500  \n",
       "2       9    2008     223500  \n",
       "3       2    2006     140000  \n",
       "4      12    2008     250000  \n",
       "\n",
       "[5 rows x 37 columns]"
      ]
     },
     "execution_count": 8,
     "metadata": {},
     "output_type": "execute_result"
    }
   ],
   "source": [
    "numeric_df.head()"
   ]
  },
  {
   "cell_type": "code",
   "execution_count": 9,
   "id": "d95eae04",
   "metadata": {},
   "outputs": [
    {
     "data": {
      "text/plain": [
       "Id                 0\n",
       "LotFrontage      259\n",
       "LotArea            0\n",
       "OverallQual        0\n",
       "OverallCond        0\n",
       "YearBuilt          0\n",
       "YearRemodAdd       0\n",
       "MasVnrArea         8\n",
       "BsmtFinSF1         0\n",
       "BsmtFinSF2         0\n",
       "BsmtUnfSF          0\n",
       "TotalBsmtSF        0\n",
       "1stFlrSF           0\n",
       "2ndFlrSF           0\n",
       "LowQualFinSF       0\n",
       "GrLivArea          0\n",
       "BsmtFullBath       0\n",
       "BsmtHalfBath       0\n",
       "FullBath           0\n",
       "HalfBath           0\n",
       "BedroomAbvGr       0\n",
       "KitchenAbvGr       0\n",
       "TotRmsAbvGrd       0\n",
       "Fireplaces         0\n",
       "GarageYrBlt       81\n",
       "GarageCars         0\n",
       "GarageArea         0\n",
       "WoodDeckSF         0\n",
       "OpenPorchSF        0\n",
       "EnclosedPorch      0\n",
       "3SsnPorch          0\n",
       "ScreenPorch        0\n",
       "PoolArea           0\n",
       "MiscVal            0\n",
       "MoSold             0\n",
       "YrSold             0\n",
       "SalePrice          0\n",
       "dtype: int64"
      ]
     },
     "execution_count": 9,
     "metadata": {},
     "output_type": "execute_result"
    }
   ],
   "source": [
    "\n",
    "numeric_df.isnull().sum()\n",
    "\n",
    "# Lot Frontage, Mason Veener Area, and Garage Year Built  was columns will null values\n"
   ]
  },
  {
   "cell_type": "code",
   "execution_count": 10,
   "id": "96216606",
   "metadata": {},
   "outputs": [
    {
     "name": "stderr",
     "output_type": "stream",
     "text": [
      "C:\\Users\\moore\\AppData\\Local\\Temp/ipykernel_10360/1313788154.py:1: SettingWithCopyWarning: \n",
      "A value is trying to be set on a copy of a slice from a DataFrame.\n",
      "Try using .loc[row_indexer,col_indexer] = value instead\n",
      "\n",
      "See the caveats in the documentation: https://pandas.pydata.org/pandas-docs/stable/user_guide/indexing.html#returning-a-view-versus-a-copy\n",
      "  numeric_df['LotFrontage'] = numeric_df['LotFrontage'].fillna(0).astype(np.int64)\n",
      "C:\\Users\\moore\\AppData\\Local\\Temp/ipykernel_10360/1313788154.py:3: SettingWithCopyWarning: \n",
      "A value is trying to be set on a copy of a slice from a DataFrame.\n",
      "Try using .loc[row_indexer,col_indexer] = value instead\n",
      "\n",
      "See the caveats in the documentation: https://pandas.pydata.org/pandas-docs/stable/user_guide/indexing.html#returning-a-view-versus-a-copy\n",
      "  numeric_df['MasVnrArea'] = numeric_df['MasVnrArea'].fillna(0).astype(np.int64)\n",
      "C:\\Users\\moore\\AppData\\Local\\Temp/ipykernel_10360/1313788154.py:5: SettingWithCopyWarning: \n",
      "A value is trying to be set on a copy of a slice from a DataFrame.\n",
      "Try using .loc[row_indexer,col_indexer] = value instead\n",
      "\n",
      "See the caveats in the documentation: https://pandas.pydata.org/pandas-docs/stable/user_guide/indexing.html#returning-a-view-versus-a-copy\n",
      "  numeric_df['GarageYrBlt'] = numeric_df['GarageYrBlt'].fillna(0).astype(np.int64)\n"
     ]
    }
   ],
   "source": [
    "numeric_df['LotFrontage'] = numeric_df['LotFrontage'].fillna(0).astype(np.int64)\n",
    "\n",
    "numeric_df['MasVnrArea'] = numeric_df['MasVnrArea'].fillna(0).astype(np.int64)\n",
    "\n",
    "numeric_df['GarageYrBlt'] = numeric_df['GarageYrBlt'].fillna(0).astype(np.int64)"
   ]
  },
  {
   "cell_type": "code",
   "execution_count": 11,
   "id": "4df4e17a",
   "metadata": {},
   "outputs": [
    {
     "data": {
      "text/plain": [
       "Id               0\n",
       "LotFrontage      0\n",
       "LotArea          0\n",
       "OverallQual      0\n",
       "OverallCond      0\n",
       "YearBuilt        0\n",
       "YearRemodAdd     0\n",
       "MasVnrArea       0\n",
       "BsmtFinSF1       0\n",
       "BsmtFinSF2       0\n",
       "BsmtUnfSF        0\n",
       "TotalBsmtSF      0\n",
       "1stFlrSF         0\n",
       "2ndFlrSF         0\n",
       "LowQualFinSF     0\n",
       "GrLivArea        0\n",
       "BsmtFullBath     0\n",
       "BsmtHalfBath     0\n",
       "FullBath         0\n",
       "HalfBath         0\n",
       "BedroomAbvGr     0\n",
       "KitchenAbvGr     0\n",
       "TotRmsAbvGrd     0\n",
       "Fireplaces       0\n",
       "GarageYrBlt      0\n",
       "GarageCars       0\n",
       "GarageArea       0\n",
       "WoodDeckSF       0\n",
       "OpenPorchSF      0\n",
       "EnclosedPorch    0\n",
       "3SsnPorch        0\n",
       "ScreenPorch      0\n",
       "PoolArea         0\n",
       "MiscVal          0\n",
       "MoSold           0\n",
       "YrSold           0\n",
       "SalePrice        0\n",
       "dtype: int64"
      ]
     },
     "execution_count": 11,
     "metadata": {},
     "output_type": "execute_result"
    }
   ],
   "source": [
    "numeric_df.isnull().sum()\n"
   ]
  },
  {
   "cell_type": "code",
   "execution_count": 12,
   "id": "48ad1dbf",
   "metadata": {},
   "outputs": [
    {
     "data": {
      "text/plain": [
       "MSSubClass          0\n",
       "MSZoning            0\n",
       "Street              0\n",
       "Alley            1369\n",
       "LotShape            0\n",
       "LandContour         0\n",
       "Utilities           0\n",
       "LotConfig           0\n",
       "LandSlope           0\n",
       "Neighborhood        0\n",
       "Condition1          0\n",
       "Condition2          0\n",
       "BldgType            0\n",
       "HouseStyle          0\n",
       "RoofStyle           0\n",
       "RoofMatl            0\n",
       "Exterior1st         0\n",
       "Exterior2nd         0\n",
       "MasVnrType          8\n",
       "ExterQual           0\n",
       "ExterCond           0\n",
       "Foundation          0\n",
       "BsmtQual           37\n",
       "BsmtCond           37\n",
       "BsmtExposure       38\n",
       "BsmtFinType1       37\n",
       "BsmtFinType2       38\n",
       "Heating             0\n",
       "HeatingQC           0\n",
       "CentralAir          0\n",
       "Electrical          1\n",
       "KitchenQual         0\n",
       "Functional          0\n",
       "FireplaceQu       690\n",
       "GarageType         81\n",
       "GarageFinish       81\n",
       "GarageQual         81\n",
       "GarageCond         81\n",
       "PavedDrive          0\n",
       "PoolQC           1453\n",
       "Fence            1179\n",
       "MiscFeature      1406\n",
       "SaleType            0\n",
       "SaleCondition       0\n",
       "dtype: int64"
      ]
     },
     "execution_count": 12,
     "metadata": {},
     "output_type": "execute_result"
    }
   ],
   "source": [
    "object_df.isnull().sum()\n",
    "\n",
    "#Alley, Basement Quality, Basement Condition, Basement Exposure, Basement Fin type 1, Basement Fin type 2\n",
    "#Electrical, Fire Place Quality, Garage Type, Garage, Condition, Garage Quality, Garage Finish,\n",
    "#Pool Quality, Fence, Misc Features are all the columns missing data"
   ]
  },
  {
   "cell_type": "code",
   "execution_count": 13,
   "id": "95fc5fb7",
   "metadata": {},
   "outputs": [],
   "source": [
    "#The 81 values missing in the Garage section in both object and numerical df are homes with NO Garage\n",
    "\n",
    "#The 37 / 38 missing values in the basement section are homes with no basement\n",
    "\n",
    "#The 1369 missing values in the Alley are homes with no alley access\n",
    "\n",
    "#The 690 values are homes with no fireplace\n",
    "\n",
    "#Safe to assume the missing values of in the data set are for homes that do not have that item\n",
    "\n",
    "\n",
    "df_object_dummies = pd.get_dummies(object_df, drop_first = True)"
   ]
  },
  {
   "cell_type": "code",
   "execution_count": 14,
   "id": "28366c8b",
   "metadata": {},
   "outputs": [
    {
     "data": {
      "text/plain": [
       "MSSubClass_160           0\n",
       "MSSubClass_180           0\n",
       "MSSubClass_190           0\n",
       "MSSubClass_20            0\n",
       "MSSubClass_30            0\n",
       "                        ..\n",
       "SaleCondition_AdjLand    0\n",
       "SaleCondition_Alloca     0\n",
       "SaleCondition_Family     0\n",
       "SaleCondition_Normal     0\n",
       "SaleCondition_Partial    0\n",
       "Length: 223, dtype: int64"
      ]
     },
     "execution_count": 14,
     "metadata": {},
     "output_type": "execute_result"
    }
   ],
   "source": [
    "df_object_dummies.isnull().sum()"
   ]
  },
  {
   "cell_type": "code",
   "execution_count": 15,
   "id": "01c52ca3",
   "metadata": {},
   "outputs": [],
   "source": [
    "#Combining the Data Frames\n",
    "\n",
    "final_df = pd.concat([numeric_df, df_object_dummies], axis=1)"
   ]
  },
  {
   "cell_type": "code",
   "execution_count": 16,
   "id": "275002ac",
   "metadata": {},
   "outputs": [
    {
     "data": {
      "text/html": [
       "<div>\n",
       "<style scoped>\n",
       "    .dataframe tbody tr th:only-of-type {\n",
       "        vertical-align: middle;\n",
       "    }\n",
       "\n",
       "    .dataframe tbody tr th {\n",
       "        vertical-align: top;\n",
       "    }\n",
       "\n",
       "    .dataframe thead th {\n",
       "        text-align: right;\n",
       "    }\n",
       "</style>\n",
       "<table border=\"1\" class=\"dataframe\">\n",
       "  <thead>\n",
       "    <tr style=\"text-align: right;\">\n",
       "      <th></th>\n",
       "      <th>Id</th>\n",
       "      <th>LotFrontage</th>\n",
       "      <th>LotArea</th>\n",
       "      <th>OverallQual</th>\n",
       "      <th>OverallCond</th>\n",
       "      <th>YearBuilt</th>\n",
       "      <th>YearRemodAdd</th>\n",
       "      <th>MasVnrArea</th>\n",
       "      <th>BsmtFinSF1</th>\n",
       "      <th>BsmtFinSF2</th>\n",
       "      <th>...</th>\n",
       "      <th>SaleType_ConLI</th>\n",
       "      <th>SaleType_ConLw</th>\n",
       "      <th>SaleType_New</th>\n",
       "      <th>SaleType_Oth</th>\n",
       "      <th>SaleType_WD</th>\n",
       "      <th>SaleCondition_AdjLand</th>\n",
       "      <th>SaleCondition_Alloca</th>\n",
       "      <th>SaleCondition_Family</th>\n",
       "      <th>SaleCondition_Normal</th>\n",
       "      <th>SaleCondition_Partial</th>\n",
       "    </tr>\n",
       "  </thead>\n",
       "  <tbody>\n",
       "    <tr>\n",
       "      <th>0</th>\n",
       "      <td>1</td>\n",
       "      <td>65</td>\n",
       "      <td>8450</td>\n",
       "      <td>7</td>\n",
       "      <td>5</td>\n",
       "      <td>2003</td>\n",
       "      <td>2003</td>\n",
       "      <td>196</td>\n",
       "      <td>706</td>\n",
       "      <td>0</td>\n",
       "      <td>...</td>\n",
       "      <td>0</td>\n",
       "      <td>0</td>\n",
       "      <td>0</td>\n",
       "      <td>0</td>\n",
       "      <td>1</td>\n",
       "      <td>0</td>\n",
       "      <td>0</td>\n",
       "      <td>0</td>\n",
       "      <td>1</td>\n",
       "      <td>0</td>\n",
       "    </tr>\n",
       "    <tr>\n",
       "      <th>1</th>\n",
       "      <td>2</td>\n",
       "      <td>80</td>\n",
       "      <td>9600</td>\n",
       "      <td>6</td>\n",
       "      <td>8</td>\n",
       "      <td>1976</td>\n",
       "      <td>1976</td>\n",
       "      <td>0</td>\n",
       "      <td>978</td>\n",
       "      <td>0</td>\n",
       "      <td>...</td>\n",
       "      <td>0</td>\n",
       "      <td>0</td>\n",
       "      <td>0</td>\n",
       "      <td>0</td>\n",
       "      <td>1</td>\n",
       "      <td>0</td>\n",
       "      <td>0</td>\n",
       "      <td>0</td>\n",
       "      <td>1</td>\n",
       "      <td>0</td>\n",
       "    </tr>\n",
       "    <tr>\n",
       "      <th>2</th>\n",
       "      <td>3</td>\n",
       "      <td>68</td>\n",
       "      <td>11250</td>\n",
       "      <td>7</td>\n",
       "      <td>5</td>\n",
       "      <td>2001</td>\n",
       "      <td>2002</td>\n",
       "      <td>162</td>\n",
       "      <td>486</td>\n",
       "      <td>0</td>\n",
       "      <td>...</td>\n",
       "      <td>0</td>\n",
       "      <td>0</td>\n",
       "      <td>0</td>\n",
       "      <td>0</td>\n",
       "      <td>1</td>\n",
       "      <td>0</td>\n",
       "      <td>0</td>\n",
       "      <td>0</td>\n",
       "      <td>1</td>\n",
       "      <td>0</td>\n",
       "    </tr>\n",
       "    <tr>\n",
       "      <th>3</th>\n",
       "      <td>4</td>\n",
       "      <td>60</td>\n",
       "      <td>9550</td>\n",
       "      <td>7</td>\n",
       "      <td>5</td>\n",
       "      <td>1915</td>\n",
       "      <td>1970</td>\n",
       "      <td>0</td>\n",
       "      <td>216</td>\n",
       "      <td>0</td>\n",
       "      <td>...</td>\n",
       "      <td>0</td>\n",
       "      <td>0</td>\n",
       "      <td>0</td>\n",
       "      <td>0</td>\n",
       "      <td>1</td>\n",
       "      <td>0</td>\n",
       "      <td>0</td>\n",
       "      <td>0</td>\n",
       "      <td>0</td>\n",
       "      <td>0</td>\n",
       "    </tr>\n",
       "    <tr>\n",
       "      <th>4</th>\n",
       "      <td>5</td>\n",
       "      <td>84</td>\n",
       "      <td>14260</td>\n",
       "      <td>8</td>\n",
       "      <td>5</td>\n",
       "      <td>2000</td>\n",
       "      <td>2000</td>\n",
       "      <td>350</td>\n",
       "      <td>655</td>\n",
       "      <td>0</td>\n",
       "      <td>...</td>\n",
       "      <td>0</td>\n",
       "      <td>0</td>\n",
       "      <td>0</td>\n",
       "      <td>0</td>\n",
       "      <td>1</td>\n",
       "      <td>0</td>\n",
       "      <td>0</td>\n",
       "      <td>0</td>\n",
       "      <td>1</td>\n",
       "      <td>0</td>\n",
       "    </tr>\n",
       "  </tbody>\n",
       "</table>\n",
       "<p>5 rows × 260 columns</p>\n",
       "</div>"
      ],
      "text/plain": [
       "   Id  LotFrontage  LotArea  OverallQual  OverallCond  YearBuilt  \\\n",
       "0   1           65     8450            7            5       2003   \n",
       "1   2           80     9600            6            8       1976   \n",
       "2   3           68    11250            7            5       2001   \n",
       "3   4           60     9550            7            5       1915   \n",
       "4   5           84    14260            8            5       2000   \n",
       "\n",
       "   YearRemodAdd  MasVnrArea  BsmtFinSF1  BsmtFinSF2  ...  SaleType_ConLI  \\\n",
       "0          2003         196         706           0  ...               0   \n",
       "1          1976           0         978           0  ...               0   \n",
       "2          2002         162         486           0  ...               0   \n",
       "3          1970           0         216           0  ...               0   \n",
       "4          2000         350         655           0  ...               0   \n",
       "\n",
       "   SaleType_ConLw  SaleType_New  SaleType_Oth  SaleType_WD  \\\n",
       "0               0             0             0            1   \n",
       "1               0             0             0            1   \n",
       "2               0             0             0            1   \n",
       "3               0             0             0            1   \n",
       "4               0             0             0            1   \n",
       "\n",
       "   SaleCondition_AdjLand  SaleCondition_Alloca  SaleCondition_Family  \\\n",
       "0                      0                     0                     0   \n",
       "1                      0                     0                     0   \n",
       "2                      0                     0                     0   \n",
       "3                      0                     0                     0   \n",
       "4                      0                     0                     0   \n",
       "\n",
       "   SaleCondition_Normal  SaleCondition_Partial  \n",
       "0                     1                      0  \n",
       "1                     1                      0  \n",
       "2                     1                      0  \n",
       "3                     0                      0  \n",
       "4                     1                      0  \n",
       "\n",
       "[5 rows x 260 columns]"
      ]
     },
     "execution_count": 16,
     "metadata": {},
     "output_type": "execute_result"
    }
   ],
   "source": [
    "final_df.head()"
   ]
  },
  {
   "cell_type": "code",
   "execution_count": 17,
   "id": "ddb95592",
   "metadata": {},
   "outputs": [
    {
     "data": {
      "text/plain": [
       "Id                       0\n",
       "LotFrontage              0\n",
       "LotArea                  0\n",
       "OverallQual              0\n",
       "OverallCond              0\n",
       "                        ..\n",
       "SaleCondition_AdjLand    0\n",
       "SaleCondition_Alloca     0\n",
       "SaleCondition_Family     0\n",
       "SaleCondition_Normal     0\n",
       "SaleCondition_Partial    0\n",
       "Length: 260, dtype: int64"
      ]
     },
     "execution_count": 17,
     "metadata": {},
     "output_type": "execute_result"
    }
   ],
   "source": [
    "final_df.isnull().sum()"
   ]
  },
  {
   "cell_type": "code",
   "execution_count": 18,
   "id": "c18d6181",
   "metadata": {},
   "outputs": [
    {
     "data": {
      "text/plain": [
       "Index(['Id', 'LotFrontage', 'LotArea', 'OverallQual', 'OverallCond',\n",
       "       'YearBuilt', 'YearRemodAdd', 'MasVnrArea', 'BsmtFinSF1', 'BsmtFinSF2',\n",
       "       ...\n",
       "       'SaleType_ConLI', 'SaleType_ConLw', 'SaleType_New', 'SaleType_Oth',\n",
       "       'SaleType_WD', 'SaleCondition_AdjLand', 'SaleCondition_Alloca',\n",
       "       'SaleCondition_Family', 'SaleCondition_Normal',\n",
       "       'SaleCondition_Partial'],\n",
       "      dtype='object', length=260)"
      ]
     },
     "execution_count": 18,
     "metadata": {},
     "output_type": "execute_result"
    }
   ],
   "source": [
    "final_df.columns"
   ]
  },
  {
   "cell_type": "code",
   "execution_count": 19,
   "id": "578a1eda",
   "metadata": {},
   "outputs": [
    {
     "data": {
      "text/html": [
       "<div>\n",
       "<style scoped>\n",
       "    .dataframe tbody tr th:only-of-type {\n",
       "        vertical-align: middle;\n",
       "    }\n",
       "\n",
       "    .dataframe tbody tr th {\n",
       "        vertical-align: top;\n",
       "    }\n",
       "\n",
       "    .dataframe thead th {\n",
       "        text-align: right;\n",
       "    }\n",
       "</style>\n",
       "<table border=\"1\" class=\"dataframe\">\n",
       "  <thead>\n",
       "    <tr style=\"text-align: right;\">\n",
       "      <th></th>\n",
       "      <th>Id</th>\n",
       "      <th>LotFrontage</th>\n",
       "      <th>LotArea</th>\n",
       "      <th>OverallQual</th>\n",
       "      <th>OverallCond</th>\n",
       "      <th>YearBuilt</th>\n",
       "      <th>YearRemodAdd</th>\n",
       "      <th>MasVnrArea</th>\n",
       "      <th>BsmtFinSF1</th>\n",
       "      <th>BsmtFinSF2</th>\n",
       "      <th>...</th>\n",
       "      <th>SaleType_ConLI</th>\n",
       "      <th>SaleType_ConLw</th>\n",
       "      <th>SaleType_New</th>\n",
       "      <th>SaleType_Oth</th>\n",
       "      <th>SaleType_WD</th>\n",
       "      <th>SaleCondition_AdjLand</th>\n",
       "      <th>SaleCondition_Alloca</th>\n",
       "      <th>SaleCondition_Family</th>\n",
       "      <th>SaleCondition_Normal</th>\n",
       "      <th>SaleCondition_Partial</th>\n",
       "    </tr>\n",
       "  </thead>\n",
       "  <tbody>\n",
       "    <tr>\n",
       "      <th>Id</th>\n",
       "      <td>1.000000</td>\n",
       "      <td>-0.019761</td>\n",
       "      <td>-0.033226</td>\n",
       "      <td>-0.028365</td>\n",
       "      <td>0.012609</td>\n",
       "      <td>-0.012713</td>\n",
       "      <td>-0.021998</td>\n",
       "      <td>-0.051071</td>\n",
       "      <td>-0.005024</td>\n",
       "      <td>-0.005968</td>\n",
       "      <td>...</td>\n",
       "      <td>-0.058765</td>\n",
       "      <td>-0.020738</td>\n",
       "      <td>-0.018998</td>\n",
       "      <td>0.038920</td>\n",
       "      <td>0.026133</td>\n",
       "      <td>-0.034852</td>\n",
       "      <td>-0.009018</td>\n",
       "      <td>0.004865</td>\n",
       "      <td>0.015881</td>\n",
       "      <td>-0.020738</td>\n",
       "    </tr>\n",
       "    <tr>\n",
       "      <th>LotFrontage</th>\n",
       "      <td>-0.019761</td>\n",
       "      <td>1.000000</td>\n",
       "      <td>0.100739</td>\n",
       "      <td>0.176561</td>\n",
       "      <td>-0.053457</td>\n",
       "      <td>0.036853</td>\n",
       "      <td>0.078686</td>\n",
       "      <td>0.105010</td>\n",
       "      <td>0.076670</td>\n",
       "      <td>-0.009312</td>\n",
       "      <td>...</td>\n",
       "      <td>0.005374</td>\n",
       "      <td>-0.011881</td>\n",
       "      <td>0.183706</td>\n",
       "      <td>0.001366</td>\n",
       "      <td>-0.139867</td>\n",
       "      <td>-0.004724</td>\n",
       "      <td>-0.009519</td>\n",
       "      <td>0.028489</td>\n",
       "      <td>-0.134115</td>\n",
       "      <td>0.184103</td>\n",
       "    </tr>\n",
       "    <tr>\n",
       "      <th>LotArea</th>\n",
       "      <td>-0.033226</td>\n",
       "      <td>0.100739</td>\n",
       "      <td>1.000000</td>\n",
       "      <td>0.105806</td>\n",
       "      <td>-0.005636</td>\n",
       "      <td>0.014228</td>\n",
       "      <td>0.013788</td>\n",
       "      <td>0.103321</td>\n",
       "      <td>0.214103</td>\n",
       "      <td>0.111170</td>\n",
       "      <td>...</td>\n",
       "      <td>0.001076</td>\n",
       "      <td>-0.015040</td>\n",
       "      <td>0.020039</td>\n",
       "      <td>-0.005722</td>\n",
       "      <td>-0.002292</td>\n",
       "      <td>-0.013208</td>\n",
       "      <td>0.008966</td>\n",
       "      <td>-0.010781</td>\n",
       "      <td>0.005711</td>\n",
       "      <td>0.022635</td>\n",
       "    </tr>\n",
       "    <tr>\n",
       "      <th>OverallQual</th>\n",
       "      <td>-0.028365</td>\n",
       "      <td>0.176561</td>\n",
       "      <td>0.105806</td>\n",
       "      <td>1.000000</td>\n",
       "      <td>-0.091932</td>\n",
       "      <td>0.572323</td>\n",
       "      <td>0.550684</td>\n",
       "      <td>0.407252</td>\n",
       "      <td>0.239666</td>\n",
       "      <td>-0.059119</td>\n",
       "      <td>...</td>\n",
       "      <td>0.004269</td>\n",
       "      <td>-0.021172</td>\n",
       "      <td>0.327412</td>\n",
       "      <td>-0.057962</td>\n",
       "      <td>-0.225013</td>\n",
       "      <td>-0.041677</td>\n",
       "      <td>-0.044950</td>\n",
       "      <td>-0.025515</td>\n",
       "      <td>-0.143282</td>\n",
       "      <td>0.323295</td>\n",
       "    </tr>\n",
       "    <tr>\n",
       "      <th>OverallCond</th>\n",
       "      <td>0.012609</td>\n",
       "      <td>-0.053457</td>\n",
       "      <td>-0.005636</td>\n",
       "      <td>-0.091932</td>\n",
       "      <td>1.000000</td>\n",
       "      <td>-0.375983</td>\n",
       "      <td>0.073741</td>\n",
       "      <td>-0.125694</td>\n",
       "      <td>-0.046231</td>\n",
       "      <td>0.040229</td>\n",
       "      <td>...</td>\n",
       "      <td>0.001299</td>\n",
       "      <td>-0.019779</td>\n",
       "      <td>-0.156175</td>\n",
       "      <td>-0.050663</td>\n",
       "      <td>0.163684</td>\n",
       "      <td>-0.038888</td>\n",
       "      <td>-0.033444</td>\n",
       "      <td>-0.023873</td>\n",
       "      <td>0.161642</td>\n",
       "      <td>-0.151659</td>\n",
       "    </tr>\n",
       "    <tr>\n",
       "      <th>...</th>\n",
       "      <td>...</td>\n",
       "      <td>...</td>\n",
       "      <td>...</td>\n",
       "      <td>...</td>\n",
       "      <td>...</td>\n",
       "      <td>...</td>\n",
       "      <td>...</td>\n",
       "      <td>...</td>\n",
       "      <td>...</td>\n",
       "      <td>...</td>\n",
       "      <td>...</td>\n",
       "      <td>...</td>\n",
       "      <td>...</td>\n",
       "      <td>...</td>\n",
       "      <td>...</td>\n",
       "      <td>...</td>\n",
       "      <td>...</td>\n",
       "      <td>...</td>\n",
       "      <td>...</td>\n",
       "      <td>...</td>\n",
       "      <td>...</td>\n",
       "    </tr>\n",
       "    <tr>\n",
       "      <th>SaleCondition_AdjLand</th>\n",
       "      <td>-0.034852</td>\n",
       "      <td>-0.004724</td>\n",
       "      <td>-0.013208</td>\n",
       "      <td>-0.041677</td>\n",
       "      <td>-0.038888</td>\n",
       "      <td>-0.045601</td>\n",
       "      <td>-0.040294</td>\n",
       "      <td>-0.011783</td>\n",
       "      <td>-0.014874</td>\n",
       "      <td>-0.015130</td>\n",
       "      <td>...</td>\n",
       "      <td>-0.003073</td>\n",
       "      <td>-0.003073</td>\n",
       "      <td>-0.015827</td>\n",
       "      <td>-0.002378</td>\n",
       "      <td>0.020457</td>\n",
       "      <td>1.000000</td>\n",
       "      <td>-0.004772</td>\n",
       "      <td>-0.006177</td>\n",
       "      <td>-0.112080</td>\n",
       "      <td>-0.016038</td>\n",
       "    </tr>\n",
       "    <tr>\n",
       "      <th>SaleCondition_Alloca</th>\n",
       "      <td>-0.009018</td>\n",
       "      <td>-0.009519</td>\n",
       "      <td>0.008966</td>\n",
       "      <td>-0.044950</td>\n",
       "      <td>-0.033444</td>\n",
       "      <td>-0.010104</td>\n",
       "      <td>-0.020727</td>\n",
       "      <td>-0.013748</td>\n",
       "      <td>0.021369</td>\n",
       "      <td>-0.026277</td>\n",
       "      <td>...</td>\n",
       "      <td>-0.005337</td>\n",
       "      <td>-0.005337</td>\n",
       "      <td>-0.027489</td>\n",
       "      <td>-0.004131</td>\n",
       "      <td>0.035530</td>\n",
       "      <td>-0.004772</td>\n",
       "      <td>1.000000</td>\n",
       "      <td>-0.010729</td>\n",
       "      <td>-0.194663</td>\n",
       "      <td>-0.027856</td>\n",
       "    </tr>\n",
       "    <tr>\n",
       "      <th>SaleCondition_Family</th>\n",
       "      <td>0.004865</td>\n",
       "      <td>0.028489</td>\n",
       "      <td>-0.010781</td>\n",
       "      <td>-0.025515</td>\n",
       "      <td>-0.023873</td>\n",
       "      <td>-0.035785</td>\n",
       "      <td>-0.048056</td>\n",
       "      <td>-0.009535</td>\n",
       "      <td>0.000765</td>\n",
       "      <td>-0.007929</td>\n",
       "      <td>...</td>\n",
       "      <td>-0.006909</td>\n",
       "      <td>-0.006909</td>\n",
       "      <td>-0.035587</td>\n",
       "      <td>-0.005348</td>\n",
       "      <td>0.028599</td>\n",
       "      <td>-0.006177</td>\n",
       "      <td>-0.010729</td>\n",
       "      <td>1.000000</td>\n",
       "      <td>-0.252006</td>\n",
       "      <td>-0.036062</td>\n",
       "    </tr>\n",
       "    <tr>\n",
       "      <th>SaleCondition_Normal</th>\n",
       "      <td>0.015881</td>\n",
       "      <td>-0.134115</td>\n",
       "      <td>0.005711</td>\n",
       "      <td>-0.143282</td>\n",
       "      <td>0.161642</td>\n",
       "      <td>-0.158427</td>\n",
       "      <td>-0.120577</td>\n",
       "      <td>-0.081539</td>\n",
       "      <td>-0.019560</td>\n",
       "      <td>0.041207</td>\n",
       "      <td>...</td>\n",
       "      <td>-0.003139</td>\n",
       "      <td>0.027414</td>\n",
       "      <td>-0.645698</td>\n",
       "      <td>-0.097031</td>\n",
       "      <td>0.634322</td>\n",
       "      <td>-0.112080</td>\n",
       "      <td>-0.194663</td>\n",
       "      <td>-0.252006</td>\n",
       "      <td>1.000000</td>\n",
       "      <td>-0.654323</td>\n",
       "    </tr>\n",
       "    <tr>\n",
       "      <th>SaleCondition_Partial</th>\n",
       "      <td>-0.020738</td>\n",
       "      <td>0.184103</td>\n",
       "      <td>0.022635</td>\n",
       "      <td>0.323295</td>\n",
       "      <td>-0.151659</td>\n",
       "      <td>0.343895</td>\n",
       "      <td>0.322837</td>\n",
       "      <td>0.162205</td>\n",
       "      <td>0.044912</td>\n",
       "      <td>-0.085761</td>\n",
       "      <td>...</td>\n",
       "      <td>-0.017938</td>\n",
       "      <td>-0.017938</td>\n",
       "      <td>0.986819</td>\n",
       "      <td>-0.013885</td>\n",
       "      <td>-0.769559</td>\n",
       "      <td>-0.016038</td>\n",
       "      <td>-0.027856</td>\n",
       "      <td>-0.036062</td>\n",
       "      <td>-0.654323</td>\n",
       "      <td>1.000000</td>\n",
       "    </tr>\n",
       "  </tbody>\n",
       "</table>\n",
       "<p>260 rows × 260 columns</p>\n",
       "</div>"
      ],
      "text/plain": [
       "                             Id  LotFrontage   LotArea  OverallQual  \\\n",
       "Id                     1.000000    -0.019761 -0.033226    -0.028365   \n",
       "LotFrontage           -0.019761     1.000000  0.100739     0.176561   \n",
       "LotArea               -0.033226     0.100739  1.000000     0.105806   \n",
       "OverallQual           -0.028365     0.176561  0.105806     1.000000   \n",
       "OverallCond            0.012609    -0.053457 -0.005636    -0.091932   \n",
       "...                         ...          ...       ...          ...   \n",
       "SaleCondition_AdjLand -0.034852    -0.004724 -0.013208    -0.041677   \n",
       "SaleCondition_Alloca  -0.009018    -0.009519  0.008966    -0.044950   \n",
       "SaleCondition_Family   0.004865     0.028489 -0.010781    -0.025515   \n",
       "SaleCondition_Normal   0.015881    -0.134115  0.005711    -0.143282   \n",
       "SaleCondition_Partial -0.020738     0.184103  0.022635     0.323295   \n",
       "\n",
       "                       OverallCond  YearBuilt  YearRemodAdd  MasVnrArea  \\\n",
       "Id                        0.012609  -0.012713     -0.021998   -0.051071   \n",
       "LotFrontage              -0.053457   0.036853      0.078686    0.105010   \n",
       "LotArea                  -0.005636   0.014228      0.013788    0.103321   \n",
       "OverallQual              -0.091932   0.572323      0.550684    0.407252   \n",
       "OverallCond               1.000000  -0.375983      0.073741   -0.125694   \n",
       "...                            ...        ...           ...         ...   \n",
       "SaleCondition_AdjLand    -0.038888  -0.045601     -0.040294   -0.011783   \n",
       "SaleCondition_Alloca     -0.033444  -0.010104     -0.020727   -0.013748   \n",
       "SaleCondition_Family     -0.023873  -0.035785     -0.048056   -0.009535   \n",
       "SaleCondition_Normal      0.161642  -0.158427     -0.120577   -0.081539   \n",
       "SaleCondition_Partial    -0.151659   0.343895      0.322837    0.162205   \n",
       "\n",
       "                       BsmtFinSF1  BsmtFinSF2  ...  SaleType_ConLI  \\\n",
       "Id                      -0.005024   -0.005968  ...       -0.058765   \n",
       "LotFrontage              0.076670   -0.009312  ...        0.005374   \n",
       "LotArea                  0.214103    0.111170  ...        0.001076   \n",
       "OverallQual              0.239666   -0.059119  ...        0.004269   \n",
       "OverallCond             -0.046231    0.040229  ...        0.001299   \n",
       "...                           ...         ...  ...             ...   \n",
       "SaleCondition_AdjLand   -0.014874   -0.015130  ...       -0.003073   \n",
       "SaleCondition_Alloca     0.021369   -0.026277  ...       -0.005337   \n",
       "SaleCondition_Family     0.000765   -0.007929  ...       -0.006909   \n",
       "SaleCondition_Normal    -0.019560    0.041207  ...       -0.003139   \n",
       "SaleCondition_Partial    0.044912   -0.085761  ...       -0.017938   \n",
       "\n",
       "                       SaleType_ConLw  SaleType_New  SaleType_Oth  \\\n",
       "Id                          -0.020738     -0.018998      0.038920   \n",
       "LotFrontage                 -0.011881      0.183706      0.001366   \n",
       "LotArea                     -0.015040      0.020039     -0.005722   \n",
       "OverallQual                 -0.021172      0.327412     -0.057962   \n",
       "OverallCond                 -0.019779     -0.156175     -0.050663   \n",
       "...                               ...           ...           ...   \n",
       "SaleCondition_AdjLand       -0.003073     -0.015827     -0.002378   \n",
       "SaleCondition_Alloca        -0.005337     -0.027489     -0.004131   \n",
       "SaleCondition_Family        -0.006909     -0.035587     -0.005348   \n",
       "SaleCondition_Normal         0.027414     -0.645698     -0.097031   \n",
       "SaleCondition_Partial       -0.017938      0.986819     -0.013885   \n",
       "\n",
       "                       SaleType_WD  SaleCondition_AdjLand  \\\n",
       "Id                        0.026133              -0.034852   \n",
       "LotFrontage              -0.139867              -0.004724   \n",
       "LotArea                  -0.002292              -0.013208   \n",
       "OverallQual              -0.225013              -0.041677   \n",
       "OverallCond               0.163684              -0.038888   \n",
       "...                            ...                    ...   \n",
       "SaleCondition_AdjLand     0.020457               1.000000   \n",
       "SaleCondition_Alloca      0.035530              -0.004772   \n",
       "SaleCondition_Family      0.028599              -0.006177   \n",
       "SaleCondition_Normal      0.634322              -0.112080   \n",
       "SaleCondition_Partial    -0.769559              -0.016038   \n",
       "\n",
       "                       SaleCondition_Alloca  SaleCondition_Family  \\\n",
       "Id                                -0.009018              0.004865   \n",
       "LotFrontage                       -0.009519              0.028489   \n",
       "LotArea                            0.008966             -0.010781   \n",
       "OverallQual                       -0.044950             -0.025515   \n",
       "OverallCond                       -0.033444             -0.023873   \n",
       "...                                     ...                   ...   \n",
       "SaleCondition_AdjLand             -0.004772             -0.006177   \n",
       "SaleCondition_Alloca               1.000000             -0.010729   \n",
       "SaleCondition_Family              -0.010729              1.000000   \n",
       "SaleCondition_Normal              -0.194663             -0.252006   \n",
       "SaleCondition_Partial             -0.027856             -0.036062   \n",
       "\n",
       "                       SaleCondition_Normal  SaleCondition_Partial  \n",
       "Id                                 0.015881              -0.020738  \n",
       "LotFrontage                       -0.134115               0.184103  \n",
       "LotArea                            0.005711               0.022635  \n",
       "OverallQual                       -0.143282               0.323295  \n",
       "OverallCond                        0.161642              -0.151659  \n",
       "...                                     ...                    ...  \n",
       "SaleCondition_AdjLand             -0.112080              -0.016038  \n",
       "SaleCondition_Alloca              -0.194663              -0.027856  \n",
       "SaleCondition_Family              -0.252006              -0.036062  \n",
       "SaleCondition_Normal               1.000000              -0.654323  \n",
       "SaleCondition_Partial             -0.654323               1.000000  \n",
       "\n",
       "[260 rows x 260 columns]"
      ]
     },
     "execution_count": 19,
     "metadata": {},
     "output_type": "execute_result"
    }
   ],
   "source": [
    "final_df.corr()"
   ]
  },
  {
   "cell_type": "code",
   "execution_count": 20,
   "id": "a98244ab",
   "metadata": {},
   "outputs": [
    {
     "data": {
      "text/plain": [
       "Id                      -0.021917\n",
       "LotFrontage              0.209624\n",
       "LotArea                  0.263843\n",
       "OverallQual              0.790982\n",
       "OverallCond             -0.077856\n",
       "                           ...   \n",
       "SaleCondition_AdjLand   -0.050686\n",
       "SaleCondition_Alloca    -0.015525\n",
       "SaleCondition_Family    -0.046480\n",
       "SaleCondition_Normal    -0.153990\n",
       "SaleCondition_Partial    0.352060\n",
       "Name: SalePrice, Length: 260, dtype: float64"
      ]
     },
     "execution_count": 20,
     "metadata": {},
     "output_type": "execute_result"
    }
   ],
   "source": [
    "#Since I are only interested in the \"Sale Price\" correlation we will grab the \"Sale Price\" colum\n",
    "\n",
    "corr_df = final_df.corr()\n",
    "\n",
    "corr_df['SalePrice']\n",
    "\n",
    "#This is how all the features in the data set are correlated to \"Sale Price\""
   ]
  },
  {
   "cell_type": "code",
   "execution_count": 21,
   "id": "2e399940",
   "metadata": {},
   "outputs": [
    {
     "data": {
      "text/plain": [
       "KitchenQual_TA      -0.519298\n",
       "BsmtQual_TA         -0.452394\n",
       "GarageFinish_Unf    -0.410608\n",
       "MasVnrType_None     -0.374468\n",
       "GarageType_Detchd   -0.354141\n",
       "                       ...   \n",
       "TotalBsmtSF          0.613581\n",
       "GarageArea           0.623431\n",
       "GarageCars           0.640409\n",
       "GrLivArea            0.708624\n",
       "OverallQual          0.790982\n",
       "Name: SalePrice, Length: 258, dtype: float64"
      ]
     },
     "execution_count": 21,
     "metadata": {},
     "output_type": "execute_result"
    }
   ],
   "source": [
    "corr_df['SalePrice'].sort_values().iloc[1:-1]"
   ]
  },
  {
   "cell_type": "code",
   "execution_count": 22,
   "id": "c531c02e",
   "metadata": {},
   "outputs": [
    {
     "data": {
      "image/png": "[encoded data removed]",
      "text/plain": [
       "<Figure size 1500x750 with 1 Axes>"
      ]
     },
     "metadata": {
      "needs_background": "light"
     },
     "output_type": "display_data"
    }
   ],
   "source": [
    "#Creating Bar Plot\n",
    "\n",
    "\n",
    "sale_price_corr = corr_df['SalePrice'].sort_values().iloc[1:-1]\n",
    "\n",
    "plt.figure(figsize=(10,5),dpi=150)\n",
    "\n",
    "plt.title(\"Features Correlation with Sale Price\")\n",
    "\n",
    "sns.barplot(x=sale_price_corr.index,y=sale_price_corr.values)\n",
    "\n",
    "plt.xticks(rotation=90);"
   ]
  },
  {
   "cell_type": "code",
   "execution_count": 23,
   "id": "a00dd6c1",
   "metadata": {},
   "outputs": [
    {
     "data": {
      "text/plain": [
       "pandas.core.series.Series"
      ]
     },
     "execution_count": 23,
     "metadata": {},
     "output_type": "execute_result"
    }
   ],
   "source": [
    "#Need to figure out which of these features above are above 0.40 (may need to change value) correlation\n",
    "\n",
    "type(sale_price_corr)"
   ]
  },
  {
   "cell_type": "code",
   "execution_count": 24,
   "id": "9e5e6081",
   "metadata": {},
   "outputs": [
    {
     "data": {
      "text/html": [
       "<div>\n",
       "<style scoped>\n",
       "    .dataframe tbody tr th:only-of-type {\n",
       "        vertical-align: middle;\n",
       "    }\n",
       "\n",
       "    .dataframe tbody tr th {\n",
       "        vertical-align: top;\n",
       "    }\n",
       "\n",
       "    .dataframe thead th {\n",
       "        text-align: right;\n",
       "    }\n",
       "</style>\n",
       "<table border=\"1\" class=\"dataframe\">\n",
       "  <thead>\n",
       "    <tr style=\"text-align: right;\">\n",
       "      <th></th>\n",
       "      <th>SalePrice</th>\n",
       "    </tr>\n",
       "  </thead>\n",
       "  <tbody>\n",
       "    <tr>\n",
       "      <th>KitchenQual_TA</th>\n",
       "      <td>-0.519298</td>\n",
       "    </tr>\n",
       "    <tr>\n",
       "      <th>BsmtQual_TA</th>\n",
       "      <td>-0.452394</td>\n",
       "    </tr>\n",
       "    <tr>\n",
       "      <th>GarageFinish_Unf</th>\n",
       "      <td>-0.410608</td>\n",
       "    </tr>\n",
       "    <tr>\n",
       "      <th>MasVnrType_None</th>\n",
       "      <td>-0.374468</td>\n",
       "    </tr>\n",
       "    <tr>\n",
       "      <th>GarageType_Detchd</th>\n",
       "      <td>-0.354141</td>\n",
       "    </tr>\n",
       "    <tr>\n",
       "      <th>...</th>\n",
       "      <td>...</td>\n",
       "    </tr>\n",
       "    <tr>\n",
       "      <th>TotalBsmtSF</th>\n",
       "      <td>0.613581</td>\n",
       "    </tr>\n",
       "    <tr>\n",
       "      <th>GarageArea</th>\n",
       "      <td>0.623431</td>\n",
       "    </tr>\n",
       "    <tr>\n",
       "      <th>GarageCars</th>\n",
       "      <td>0.640409</td>\n",
       "    </tr>\n",
       "    <tr>\n",
       "      <th>GrLivArea</th>\n",
       "      <td>0.708624</td>\n",
       "    </tr>\n",
       "    <tr>\n",
       "      <th>OverallQual</th>\n",
       "      <td>0.790982</td>\n",
       "    </tr>\n",
       "  </tbody>\n",
       "</table>\n",
       "<p>258 rows × 1 columns</p>\n",
       "</div>"
      ],
      "text/plain": [
       "                   SalePrice\n",
       "KitchenQual_TA     -0.519298\n",
       "BsmtQual_TA        -0.452394\n",
       "GarageFinish_Unf   -0.410608\n",
       "MasVnrType_None    -0.374468\n",
       "GarageType_Detchd  -0.354141\n",
       "...                      ...\n",
       "TotalBsmtSF         0.613581\n",
       "GarageArea          0.623431\n",
       "GarageCars          0.640409\n",
       "GrLivArea           0.708624\n",
       "OverallQual         0.790982\n",
       "\n",
       "[258 rows x 1 columns]"
      ]
     },
     "execution_count": 24,
     "metadata": {},
     "output_type": "execute_result"
    }
   ],
   "source": [
    "sale_price_corr_df = corr_df[['SalePrice']].sort_values(by ='SalePrice').iloc[1:-1]\n",
    "\n",
    "sale_price_corr_df"
   ]
  },
  {
   "cell_type": "code",
   "execution_count": 25,
   "id": "0218ce32",
   "metadata": {},
   "outputs": [
    {
     "data": {
      "text/html": [
       "<div>\n",
       "<style scoped>\n",
       "    .dataframe tbody tr th:only-of-type {\n",
       "        vertical-align: middle;\n",
       "    }\n",
       "\n",
       "    .dataframe tbody tr th {\n",
       "        vertical-align: top;\n",
       "    }\n",
       "\n",
       "    .dataframe thead th {\n",
       "        text-align: right;\n",
       "    }\n",
       "</style>\n",
       "<table border=\"1\" class=\"dataframe\">\n",
       "  <thead>\n",
       "    <tr style=\"text-align: right;\">\n",
       "      <th></th>\n",
       "      <th>SalePrice</th>\n",
       "    </tr>\n",
       "  </thead>\n",
       "  <tbody>\n",
       "    <tr>\n",
       "      <th>KitchenQual_TA</th>\n",
       "      <td>0.519298</td>\n",
       "    </tr>\n",
       "    <tr>\n",
       "      <th>BsmtQual_TA</th>\n",
       "      <td>0.452394</td>\n",
       "    </tr>\n",
       "    <tr>\n",
       "      <th>GarageFinish_Unf</th>\n",
       "      <td>0.410608</td>\n",
       "    </tr>\n",
       "    <tr>\n",
       "      <th>MasVnrType_None</th>\n",
       "      <td>0.374468</td>\n",
       "    </tr>\n",
       "    <tr>\n",
       "      <th>GarageType_Detchd</th>\n",
       "      <td>0.354141</td>\n",
       "    </tr>\n",
       "    <tr>\n",
       "      <th>...</th>\n",
       "      <td>...</td>\n",
       "    </tr>\n",
       "    <tr>\n",
       "      <th>TotalBsmtSF</th>\n",
       "      <td>0.613581</td>\n",
       "    </tr>\n",
       "    <tr>\n",
       "      <th>GarageArea</th>\n",
       "      <td>0.623431</td>\n",
       "    </tr>\n",
       "    <tr>\n",
       "      <th>GarageCars</th>\n",
       "      <td>0.640409</td>\n",
       "    </tr>\n",
       "    <tr>\n",
       "      <th>GrLivArea</th>\n",
       "      <td>0.708624</td>\n",
       "    </tr>\n",
       "    <tr>\n",
       "      <th>OverallQual</th>\n",
       "      <td>0.790982</td>\n",
       "    </tr>\n",
       "  </tbody>\n",
       "</table>\n",
       "<p>258 rows × 1 columns</p>\n",
       "</div>"
      ],
      "text/plain": [
       "                   SalePrice\n",
       "KitchenQual_TA      0.519298\n",
       "BsmtQual_TA         0.452394\n",
       "GarageFinish_Unf    0.410608\n",
       "MasVnrType_None     0.374468\n",
       "GarageType_Detchd   0.354141\n",
       "...                      ...\n",
       "TotalBsmtSF         0.613581\n",
       "GarageArea          0.623431\n",
       "GarageCars          0.640409\n",
       "GrLivArea           0.708624\n",
       "OverallQual         0.790982\n",
       "\n",
       "[258 rows x 1 columns]"
      ]
     },
     "execution_count": 25,
     "metadata": {},
     "output_type": "execute_result"
    }
   ],
   "source": [
    "abs_sale_price_corr_df = abs(sale_price_corr_df)\n",
    "\n",
    "abs_sale_price_corr_df"
   ]
  },
  {
   "cell_type": "code",
   "execution_count": 26,
   "id": "244b3136",
   "metadata": {},
   "outputs": [
    {
     "data": {
      "text/html": [
       "<div>\n",
       "<style scoped>\n",
       "    .dataframe tbody tr th:only-of-type {\n",
       "        vertical-align: middle;\n",
       "    }\n",
       "\n",
       "    .dataframe tbody tr th {\n",
       "        vertical-align: top;\n",
       "    }\n",
       "\n",
       "    .dataframe thead th {\n",
       "        text-align: right;\n",
       "    }\n",
       "</style>\n",
       "<table border=\"1\" class=\"dataframe\">\n",
       "  <thead>\n",
       "    <tr style=\"text-align: right;\">\n",
       "      <th></th>\n",
       "      <th>SalePrice</th>\n",
       "    </tr>\n",
       "  </thead>\n",
       "  <tbody>\n",
       "    <tr>\n",
       "      <th>KitchenQual_TA</th>\n",
       "      <td>0.519298</td>\n",
       "    </tr>\n",
       "    <tr>\n",
       "      <th>BsmtQual_TA</th>\n",
       "      <td>0.452394</td>\n",
       "    </tr>\n",
       "    <tr>\n",
       "      <th>GarageFinish_Unf</th>\n",
       "      <td>0.410608</td>\n",
       "    </tr>\n",
       "    <tr>\n",
       "      <th>MasVnrType_None</th>\n",
       "      <td>0.374468</td>\n",
       "    </tr>\n",
       "    <tr>\n",
       "      <th>GarageType_Detchd</th>\n",
       "      <td>0.354141</td>\n",
       "    </tr>\n",
       "    <tr>\n",
       "      <th>...</th>\n",
       "      <td>...</td>\n",
       "    </tr>\n",
       "    <tr>\n",
       "      <th>TotalBsmtSF</th>\n",
       "      <td>0.613581</td>\n",
       "    </tr>\n",
       "    <tr>\n",
       "      <th>GarageArea</th>\n",
       "      <td>0.623431</td>\n",
       "    </tr>\n",
       "    <tr>\n",
       "      <th>GarageCars</th>\n",
       "      <td>0.640409</td>\n",
       "    </tr>\n",
       "    <tr>\n",
       "      <th>GrLivArea</th>\n",
       "      <td>0.708624</td>\n",
       "    </tr>\n",
       "    <tr>\n",
       "      <th>OverallQual</th>\n",
       "      <td>0.790982</td>\n",
       "    </tr>\n",
       "  </tbody>\n",
       "</table>\n",
       "<p>61 rows × 1 columns</p>\n",
       "</div>"
      ],
      "text/plain": [
       "                   SalePrice\n",
       "KitchenQual_TA      0.519298\n",
       "BsmtQual_TA         0.452394\n",
       "GarageFinish_Unf    0.410608\n",
       "MasVnrType_None     0.374468\n",
       "GarageType_Detchd   0.354141\n",
       "...                      ...\n",
       "TotalBsmtSF         0.613581\n",
       "GarageArea          0.623431\n",
       "GarageCars          0.640409\n",
       "GrLivArea           0.708624\n",
       "OverallQual         0.790982\n",
       "\n",
       "[61 rows x 1 columns]"
      ]
     },
     "execution_count": 26,
     "metadata": {},
     "output_type": "execute_result"
    }
   ],
   "source": [
    "#Deciding how to choose which features to include in your model since I think all features are not necessary\n",
    "\n",
    "\n",
    "abs_sale_price_corr_df[abs_sale_price_corr_df['SalePrice'] >= 0.20]"
   ]
  },
  {
   "cell_type": "code",
   "execution_count": 27,
   "id": "57308309",
   "metadata": {},
   "outputs": [
    {
     "data": {
      "text/html": [
       "<div>\n",
       "<style scoped>\n",
       "    .dataframe tbody tr th:only-of-type {\n",
       "        vertical-align: middle;\n",
       "    }\n",
       "\n",
       "    .dataframe tbody tr th {\n",
       "        vertical-align: top;\n",
       "    }\n",
       "\n",
       "    .dataframe thead th {\n",
       "        text-align: right;\n",
       "    }\n",
       "</style>\n",
       "<table border=\"1\" class=\"dataframe\">\n",
       "  <thead>\n",
       "    <tr style=\"text-align: right;\">\n",
       "      <th></th>\n",
       "      <th>SalePrice</th>\n",
       "    </tr>\n",
       "  </thead>\n",
       "  <tbody>\n",
       "    <tr>\n",
       "      <th>KitchenQual_TA</th>\n",
       "      <td>0.519298</td>\n",
       "    </tr>\n",
       "    <tr>\n",
       "      <th>BsmtQual_TA</th>\n",
       "      <td>0.452394</td>\n",
       "    </tr>\n",
       "    <tr>\n",
       "      <th>GarageFinish_Unf</th>\n",
       "      <td>0.410608</td>\n",
       "    </tr>\n",
       "    <tr>\n",
       "      <th>MasVnrType_None</th>\n",
       "      <td>0.374468</td>\n",
       "    </tr>\n",
       "    <tr>\n",
       "      <th>GarageType_Detchd</th>\n",
       "      <td>0.354141</td>\n",
       "    </tr>\n",
       "    <tr>\n",
       "      <th>Foundation_CBlock</th>\n",
       "      <td>0.343263</td>\n",
       "    </tr>\n",
       "    <tr>\n",
       "      <th>HeatingQC_TA</th>\n",
       "      <td>0.312677</td>\n",
       "    </tr>\n",
       "    <tr>\n",
       "      <th>MSZoning_RM</th>\n",
       "      <td>0.288065</td>\n",
       "    </tr>\n",
       "    <tr>\n",
       "      <th>HalfBath</th>\n",
       "      <td>0.284108</td>\n",
       "    </tr>\n",
       "    <tr>\n",
       "      <th>Exterior1st_VinylSd</th>\n",
       "      <td>0.305009</td>\n",
       "    </tr>\n",
       "    <tr>\n",
       "      <th>Exterior2nd_VinylSd</th>\n",
       "      <td>0.306389</td>\n",
       "    </tr>\n",
       "    <tr>\n",
       "      <th>BsmtExposure_Gd</th>\n",
       "      <td>0.307298</td>\n",
       "    </tr>\n",
       "    <tr>\n",
       "      <th>OpenPorchSF</th>\n",
       "      <td>0.315856</td>\n",
       "    </tr>\n",
       "    <tr>\n",
       "      <th>2ndFlrSF</th>\n",
       "      <td>0.319334</td>\n",
       "    </tr>\n",
       "    <tr>\n",
       "      <th>KitchenQual_Gd</th>\n",
       "      <td>0.321641</td>\n",
       "    </tr>\n",
       "    <tr>\n",
       "      <th>WoodDeckSF</th>\n",
       "      <td>0.324413</td>\n",
       "    </tr>\n",
       "    <tr>\n",
       "      <th>Neighborhood_NoRidge</th>\n",
       "      <td>0.330424</td>\n",
       "    </tr>\n",
       "    <tr>\n",
       "      <th>MasVnrType_Stone</th>\n",
       "      <td>0.330476</td>\n",
       "    </tr>\n",
       "    <tr>\n",
       "      <th>GarageType_Attchd</th>\n",
       "      <td>0.335961</td>\n",
       "    </tr>\n",
       "    <tr>\n",
       "      <th>FireplaceQu_Gd</th>\n",
       "      <td>0.339329</td>\n",
       "    </tr>\n",
       "    <tr>\n",
       "      <th>SaleCondition_Partial</th>\n",
       "      <td>0.352060</td>\n",
       "    </tr>\n",
       "    <tr>\n",
       "      <th>SaleType_New</th>\n",
       "      <td>0.357509</td>\n",
       "    </tr>\n",
       "    <tr>\n",
       "      <th>MSSubClass_60</th>\n",
       "      <td>0.377197</td>\n",
       "    </tr>\n",
       "    <tr>\n",
       "      <th>BsmtFinSF1</th>\n",
       "      <td>0.386420</td>\n",
       "    </tr>\n",
       "    <tr>\n",
       "      <th>Neighborhood_NridgHt</th>\n",
       "      <td>0.402149</td>\n",
       "    </tr>\n",
       "    <tr>\n",
       "      <th>BsmtFinType1_GLQ</th>\n",
       "      <td>0.434597</td>\n",
       "    </tr>\n",
       "    <tr>\n",
       "      <th>ExterQual_Gd</th>\n",
       "      <td>0.452466</td>\n",
       "    </tr>\n",
       "    <tr>\n",
       "      <th>Fireplaces</th>\n",
       "      <td>0.466929</td>\n",
       "    </tr>\n",
       "    <tr>\n",
       "      <th>MasVnrArea</th>\n",
       "      <td>0.472614</td>\n",
       "    </tr>\n",
       "    <tr>\n",
       "      <th>Foundation_PConc</th>\n",
       "      <td>0.497734</td>\n",
       "    </tr>\n",
       "    <tr>\n",
       "      <th>YearRemodAdd</th>\n",
       "      <td>0.507101</td>\n",
       "    </tr>\n",
       "    <tr>\n",
       "      <th>YearBuilt</th>\n",
       "      <td>0.522897</td>\n",
       "    </tr>\n",
       "    <tr>\n",
       "      <th>TotRmsAbvGrd</th>\n",
       "      <td>0.533723</td>\n",
       "    </tr>\n",
       "    <tr>\n",
       "      <th>FullBath</th>\n",
       "      <td>0.560664</td>\n",
       "    </tr>\n",
       "    <tr>\n",
       "      <th>1stFlrSF</th>\n",
       "      <td>0.605852</td>\n",
       "    </tr>\n",
       "    <tr>\n",
       "      <th>TotalBsmtSF</th>\n",
       "      <td>0.613581</td>\n",
       "    </tr>\n",
       "    <tr>\n",
       "      <th>GarageArea</th>\n",
       "      <td>0.623431</td>\n",
       "    </tr>\n",
       "    <tr>\n",
       "      <th>GarageCars</th>\n",
       "      <td>0.640409</td>\n",
       "    </tr>\n",
       "    <tr>\n",
       "      <th>GrLivArea</th>\n",
       "      <td>0.708624</td>\n",
       "    </tr>\n",
       "    <tr>\n",
       "      <th>OverallQual</th>\n",
       "      <td>0.790982</td>\n",
       "    </tr>\n",
       "  </tbody>\n",
       "</table>\n",
       "</div>"
      ],
      "text/plain": [
       "                       SalePrice\n",
       "KitchenQual_TA          0.519298\n",
       "BsmtQual_TA             0.452394\n",
       "GarageFinish_Unf        0.410608\n",
       "MasVnrType_None         0.374468\n",
       "GarageType_Detchd       0.354141\n",
       "Foundation_CBlock       0.343263\n",
       "HeatingQC_TA            0.312677\n",
       "MSZoning_RM             0.288065\n",
       "HalfBath                0.284108\n",
       "Exterior1st_VinylSd     0.305009\n",
       "Exterior2nd_VinylSd     0.306389\n",
       "BsmtExposure_Gd         0.307298\n",
       "OpenPorchSF             0.315856\n",
       "2ndFlrSF                0.319334\n",
       "KitchenQual_Gd          0.321641\n",
       "WoodDeckSF              0.324413\n",
       "Neighborhood_NoRidge    0.330424\n",
       "MasVnrType_Stone        0.330476\n",
       "GarageType_Attchd       0.335961\n",
       "FireplaceQu_Gd          0.339329\n",
       "SaleCondition_Partial   0.352060\n",
       "SaleType_New            0.357509\n",
       "MSSubClass_60           0.377197\n",
       "BsmtFinSF1              0.386420\n",
       "Neighborhood_NridgHt    0.402149\n",
       "BsmtFinType1_GLQ        0.434597\n",
       "ExterQual_Gd            0.452466\n",
       "Fireplaces              0.466929\n",
       "MasVnrArea              0.472614\n",
       "Foundation_PConc        0.497734\n",
       "YearRemodAdd            0.507101\n",
       "YearBuilt               0.522897\n",
       "TotRmsAbvGrd            0.533723\n",
       "FullBath                0.560664\n",
       "1stFlrSF                0.605852\n",
       "TotalBsmtSF             0.613581\n",
       "GarageArea              0.623431\n",
       "GarageCars              0.640409\n",
       "GrLivArea               0.708624\n",
       "OverallQual             0.790982"
      ]
     },
     "execution_count": 27,
     "metadata": {},
     "output_type": "execute_result"
    }
   ],
   "source": [
    "#Deciding how to choose which features to include in your model since I think all features are not necessary\n",
    "\n",
    "\n",
    "abs_sale_price_corr_df[abs_sale_price_corr_df['SalePrice'] >= 0.28]"
   ]
  },
  {
   "cell_type": "code",
   "execution_count": 28,
   "id": "82687e88",
   "metadata": {},
   "outputs": [
    {
     "data": {
      "text/html": [
       "<div>\n",
       "<style scoped>\n",
       "    .dataframe tbody tr th:only-of-type {\n",
       "        vertical-align: middle;\n",
       "    }\n",
       "\n",
       "    .dataframe tbody tr th {\n",
       "        vertical-align: top;\n",
       "    }\n",
       "\n",
       "    .dataframe thead th {\n",
       "        text-align: right;\n",
       "    }\n",
       "</style>\n",
       "<table border=\"1\" class=\"dataframe\">\n",
       "  <thead>\n",
       "    <tr style=\"text-align: right;\">\n",
       "      <th></th>\n",
       "      <th>SalePrice</th>\n",
       "    </tr>\n",
       "  </thead>\n",
       "  <tbody>\n",
       "    <tr>\n",
       "      <th>KitchenQual_TA</th>\n",
       "      <td>0.519298</td>\n",
       "    </tr>\n",
       "    <tr>\n",
       "      <th>BsmtQual_TA</th>\n",
       "      <td>0.452394</td>\n",
       "    </tr>\n",
       "    <tr>\n",
       "      <th>GarageFinish_Unf</th>\n",
       "      <td>0.410608</td>\n",
       "    </tr>\n",
       "    <tr>\n",
       "      <th>MasVnrType_None</th>\n",
       "      <td>0.374468</td>\n",
       "    </tr>\n",
       "    <tr>\n",
       "      <th>GarageType_Detchd</th>\n",
       "      <td>0.354141</td>\n",
       "    </tr>\n",
       "    <tr>\n",
       "      <th>Foundation_CBlock</th>\n",
       "      <td>0.343263</td>\n",
       "    </tr>\n",
       "    <tr>\n",
       "      <th>HeatingQC_TA</th>\n",
       "      <td>0.312677</td>\n",
       "    </tr>\n",
       "    <tr>\n",
       "      <th>Exterior1st_VinylSd</th>\n",
       "      <td>0.305009</td>\n",
       "    </tr>\n",
       "    <tr>\n",
       "      <th>Exterior2nd_VinylSd</th>\n",
       "      <td>0.306389</td>\n",
       "    </tr>\n",
       "    <tr>\n",
       "      <th>BsmtExposure_Gd</th>\n",
       "      <td>0.307298</td>\n",
       "    </tr>\n",
       "    <tr>\n",
       "      <th>OpenPorchSF</th>\n",
       "      <td>0.315856</td>\n",
       "    </tr>\n",
       "    <tr>\n",
       "      <th>2ndFlrSF</th>\n",
       "      <td>0.319334</td>\n",
       "    </tr>\n",
       "    <tr>\n",
       "      <th>KitchenQual_Gd</th>\n",
       "      <td>0.321641</td>\n",
       "    </tr>\n",
       "    <tr>\n",
       "      <th>WoodDeckSF</th>\n",
       "      <td>0.324413</td>\n",
       "    </tr>\n",
       "    <tr>\n",
       "      <th>Neighborhood_NoRidge</th>\n",
       "      <td>0.330424</td>\n",
       "    </tr>\n",
       "    <tr>\n",
       "      <th>MasVnrType_Stone</th>\n",
       "      <td>0.330476</td>\n",
       "    </tr>\n",
       "    <tr>\n",
       "      <th>GarageType_Attchd</th>\n",
       "      <td>0.335961</td>\n",
       "    </tr>\n",
       "    <tr>\n",
       "      <th>FireplaceQu_Gd</th>\n",
       "      <td>0.339329</td>\n",
       "    </tr>\n",
       "    <tr>\n",
       "      <th>SaleCondition_Partial</th>\n",
       "      <td>0.352060</td>\n",
       "    </tr>\n",
       "    <tr>\n",
       "      <th>SaleType_New</th>\n",
       "      <td>0.357509</td>\n",
       "    </tr>\n",
       "    <tr>\n",
       "      <th>MSSubClass_60</th>\n",
       "      <td>0.377197</td>\n",
       "    </tr>\n",
       "    <tr>\n",
       "      <th>BsmtFinSF1</th>\n",
       "      <td>0.386420</td>\n",
       "    </tr>\n",
       "    <tr>\n",
       "      <th>Neighborhood_NridgHt</th>\n",
       "      <td>0.402149</td>\n",
       "    </tr>\n",
       "    <tr>\n",
       "      <th>BsmtFinType1_GLQ</th>\n",
       "      <td>0.434597</td>\n",
       "    </tr>\n",
       "    <tr>\n",
       "      <th>ExterQual_Gd</th>\n",
       "      <td>0.452466</td>\n",
       "    </tr>\n",
       "    <tr>\n",
       "      <th>Fireplaces</th>\n",
       "      <td>0.466929</td>\n",
       "    </tr>\n",
       "    <tr>\n",
       "      <th>MasVnrArea</th>\n",
       "      <td>0.472614</td>\n",
       "    </tr>\n",
       "    <tr>\n",
       "      <th>Foundation_PConc</th>\n",
       "      <td>0.497734</td>\n",
       "    </tr>\n",
       "    <tr>\n",
       "      <th>YearRemodAdd</th>\n",
       "      <td>0.507101</td>\n",
       "    </tr>\n",
       "    <tr>\n",
       "      <th>YearBuilt</th>\n",
       "      <td>0.522897</td>\n",
       "    </tr>\n",
       "    <tr>\n",
       "      <th>TotRmsAbvGrd</th>\n",
       "      <td>0.533723</td>\n",
       "    </tr>\n",
       "    <tr>\n",
       "      <th>FullBath</th>\n",
       "      <td>0.560664</td>\n",
       "    </tr>\n",
       "    <tr>\n",
       "      <th>1stFlrSF</th>\n",
       "      <td>0.605852</td>\n",
       "    </tr>\n",
       "    <tr>\n",
       "      <th>TotalBsmtSF</th>\n",
       "      <td>0.613581</td>\n",
       "    </tr>\n",
       "    <tr>\n",
       "      <th>GarageArea</th>\n",
       "      <td>0.623431</td>\n",
       "    </tr>\n",
       "    <tr>\n",
       "      <th>GarageCars</th>\n",
       "      <td>0.640409</td>\n",
       "    </tr>\n",
       "    <tr>\n",
       "      <th>GrLivArea</th>\n",
       "      <td>0.708624</td>\n",
       "    </tr>\n",
       "    <tr>\n",
       "      <th>OverallQual</th>\n",
       "      <td>0.790982</td>\n",
       "    </tr>\n",
       "  </tbody>\n",
       "</table>\n",
       "</div>"
      ],
      "text/plain": [
       "                       SalePrice\n",
       "KitchenQual_TA          0.519298\n",
       "BsmtQual_TA             0.452394\n",
       "GarageFinish_Unf        0.410608\n",
       "MasVnrType_None         0.374468\n",
       "GarageType_Detchd       0.354141\n",
       "Foundation_CBlock       0.343263\n",
       "HeatingQC_TA            0.312677\n",
       "Exterior1st_VinylSd     0.305009\n",
       "Exterior2nd_VinylSd     0.306389\n",
       "BsmtExposure_Gd         0.307298\n",
       "OpenPorchSF             0.315856\n",
       "2ndFlrSF                0.319334\n",
       "KitchenQual_Gd          0.321641\n",
       "WoodDeckSF              0.324413\n",
       "Neighborhood_NoRidge    0.330424\n",
       "MasVnrType_Stone        0.330476\n",
       "GarageType_Attchd       0.335961\n",
       "FireplaceQu_Gd          0.339329\n",
       "SaleCondition_Partial   0.352060\n",
       "SaleType_New            0.357509\n",
       "MSSubClass_60           0.377197\n",
       "BsmtFinSF1              0.386420\n",
       "Neighborhood_NridgHt    0.402149\n",
       "BsmtFinType1_GLQ        0.434597\n",
       "ExterQual_Gd            0.452466\n",
       "Fireplaces              0.466929\n",
       "MasVnrArea              0.472614\n",
       "Foundation_PConc        0.497734\n",
       "YearRemodAdd            0.507101\n",
       "YearBuilt               0.522897\n",
       "TotRmsAbvGrd            0.533723\n",
       "FullBath                0.560664\n",
       "1stFlrSF                0.605852\n",
       "TotalBsmtSF             0.613581\n",
       "GarageArea              0.623431\n",
       "GarageCars              0.640409\n",
       "GrLivArea               0.708624\n",
       "OverallQual             0.790982"
      ]
     },
     "execution_count": 28,
     "metadata": {},
     "output_type": "execute_result"
    }
   ],
   "source": [
    "#Deciding how to choose which features to include in your model since I think all features are not necessary\n",
    "\n",
    "\n",
    "abs_sale_price_corr_df[abs_sale_price_corr_df['SalePrice'] >= 0.30]"
   ]
  },
  {
   "cell_type": "code",
   "execution_count": 29,
   "id": "8e87a79d",
   "metadata": {},
   "outputs": [],
   "source": [
    "#Creating dataframes with correct indexs willing to train.\n",
    "\n",
    "model_one_df = abs_sale_price_corr_df[abs_sale_price_corr_df['SalePrice'] >= 0.20]\n",
    "\n",
    "model_two_df = abs_sale_price_corr_df[abs_sale_price_corr_df['SalePrice'] >= 0.28] #This is the one we will train first\n",
    "\n",
    "model_three_df = abs_sale_price_corr_df[abs_sale_price_corr_df['SalePrice'] >= 0.35]\n",
    "\n",
    "model_four_df = abs_sale_price_corr_df[abs_sale_price_corr_df['SalePrice'] >= 0.10]\n",
    "\n",
    "model_five_df = abs_sale_price_corr_df[abs_sale_price_corr_df['SalePrice'] >= 0.15]"
   ]
  },
  {
   "cell_type": "code",
   "execution_count": 30,
   "id": "fe10a2af",
   "metadata": {},
   "outputs": [
    {
     "data": {
      "text/plain": [
       "Index(['KitchenQual_TA', 'BsmtQual_TA', 'GarageFinish_Unf', 'MasVnrType_None',\n",
       "       'GarageType_Detchd', 'Foundation_CBlock', 'HeatingQC_TA', 'MSZoning_RM',\n",
       "       'HalfBath', 'Exterior1st_VinylSd', 'Exterior2nd_VinylSd',\n",
       "       'BsmtExposure_Gd', 'OpenPorchSF', '2ndFlrSF', 'KitchenQual_Gd',\n",
       "       'WoodDeckSF', 'Neighborhood_NoRidge', 'MasVnrType_Stone',\n",
       "       'GarageType_Attchd', 'FireplaceQu_Gd', 'SaleCondition_Partial',\n",
       "       'SaleType_New', 'MSSubClass_60', 'BsmtFinSF1', 'Neighborhood_NridgHt',\n",
       "       'BsmtFinType1_GLQ', 'ExterQual_Gd', 'Fireplaces', 'MasVnrArea',\n",
       "       'Foundation_PConc', 'YearRemodAdd', 'YearBuilt', 'TotRmsAbvGrd',\n",
       "       'FullBath', '1stFlrSF', 'TotalBsmtSF', 'GarageArea', 'GarageCars',\n",
       "       'GrLivArea', 'OverallQual'],\n",
       "      dtype='object')"
      ]
     },
     "execution_count": 30,
     "metadata": {},
     "output_type": "execute_result"
    }
   ],
   "source": [
    "model_two_df.index"
   ]
  },
  {
   "cell_type": "code",
   "execution_count": 31,
   "id": "8c611ad9",
   "metadata": {},
   "outputs": [],
   "source": [
    "#Splitting features and label into X features and y label\n",
    "\n",
    "#Features from \"model_two_df\"\n",
    "\n",
    "\n",
    "X = final_df.loc[:,['KitchenQual_TA', 'BsmtQual_TA', 'GarageFinish_Unf', 'MasVnrType_None',\n",
    "       'GarageType_Detchd', 'Foundation_CBlock', 'HeatingQC_TA', 'MSZoning_RM',\n",
    "       'HalfBath', 'Exterior1st_VinylSd', 'Exterior2nd_VinylSd',\n",
    "       'BsmtExposure_Gd', 'OpenPorchSF', '2ndFlrSF', 'KitchenQual_Gd',\n",
    "       'WoodDeckSF', 'Neighborhood_NoRidge', 'MasVnrType_Stone',\n",
    "       'GarageType_Attchd', 'FireplaceQu_Gd', 'SaleCondition_Partial',\n",
    "       'SaleType_New', 'MSSubClass_60', 'BsmtFinSF1', 'Neighborhood_NridgHt',\n",
    "       'BsmtFinType1_GLQ', 'ExterQual_Gd', 'Fireplaces', 'MasVnrArea',\n",
    "       'Foundation_PConc', 'YearRemodAdd', 'YearBuilt', 'TotRmsAbvGrd',\n",
    "       'FullBath', '1stFlrSF', 'TotalBsmtSF', 'GarageArea', 'GarageCars',\n",
    "       'GrLivArea', 'OverallQual']]\n",
    "\n",
    "y = final_df['SalePrice']"
   ]
  },
  {
   "cell_type": "code",
   "execution_count": 32,
   "id": "bc2f8ceb",
   "metadata": {},
   "outputs": [],
   "source": [
    "#Train/Test Split\n",
    "\n",
    "from sklearn.model_selection import train_test_split\n",
    "X_train, X_other, y_train, y_other = train_test_split(X,y,test_size=0.3,random_state=101)\n",
    "\n",
    "#Train = 70%\n",
    "\n",
    "#Validation/Test Split\n",
    "X_eval , X_test , y_eval , y_test = train_test_split(X_other,y_other,test_size=0.5, random_state = 101)\n",
    "\n",
    "#Validation = 15%\n",
    "#Test = 15%"
   ]
  },
  {
   "cell_type": "code",
   "execution_count": 33,
   "id": "28c29396",
   "metadata": {},
   "outputs": [
    {
     "data": {
      "text/plain": [
       "1460"
      ]
     },
     "execution_count": 33,
     "metadata": {},
     "output_type": "execute_result"
    }
   ],
   "source": [
    "len(final_df)"
   ]
  },
  {
   "cell_type": "code",
   "execution_count": 34,
   "id": "cf54414a",
   "metadata": {},
   "outputs": [
    {
     "data": {
      "text/plain": [
       "1022"
      ]
     },
     "execution_count": 34,
     "metadata": {},
     "output_type": "execute_result"
    }
   ],
   "source": [
    "len(X_train)"
   ]
  },
  {
   "cell_type": "code",
   "execution_count": 35,
   "id": "f9a89daf",
   "metadata": {},
   "outputs": [
    {
     "data": {
      "text/plain": [
       "219"
      ]
     },
     "execution_count": 35,
     "metadata": {},
     "output_type": "execute_result"
    }
   ],
   "source": [
    "len(X_test)"
   ]
  },
  {
   "cell_type": "code",
   "execution_count": 36,
   "id": "ff666cc0",
   "metadata": {},
   "outputs": [
    {
     "data": {
      "text/plain": [
       "219"
      ]
     },
     "execution_count": 36,
     "metadata": {},
     "output_type": "execute_result"
    }
   ],
   "source": [
    "len(X_eval)"
   ]
  },
  {
   "cell_type": "code",
   "execution_count": 37,
   "id": "ad822fd5",
   "metadata": {},
   "outputs": [],
   "source": [
    "#Scaling the data cause it does not hurt\n",
    "\n",
    "from sklearn.preprocessing import StandardScaler\n",
    "scaler = StandardScaler()\n",
    "scaler.fit(X_train)\n",
    "scaled_X_train = scaler.transform(X_train)\n",
    "scaled_X_eval = scaler.transform(X_eval)\n",
    "scaled_X_test = scaler.transform(X_test)"
   ]
  },
  {
   "cell_type": "code",
   "execution_count": 38,
   "id": "c0fe10f1",
   "metadata": {},
   "outputs": [],
   "source": [
    "from sklearn.linear_model import ElasticNet\n",
    "from sklearn.ensemble import RandomForestRegressor\n",
    "from sklearn.ensemble import GradientBoostingRegressor\n",
    "from sklearn.model_selection import GridSearchCV\n",
    "from sklearn.metrics import mean_squared_error"
   ]
  },
  {
   "cell_type": "code",
   "execution_count": 39,
   "id": "18903583",
   "metadata": {},
   "outputs": [],
   "source": [
    "#Need to do research on what valid values i need for each argument in parameter grid\n",
    "\n",
    "gb_param_grid = {'n_estimators':[100,300,500,700],\n",
    "             'learning_rate':[0.2,0.1,0.05,0.001],\n",
    "             'max_depth':[3,5,7,9]}\n",
    "\n",
    "en_param_grid = {'alpha':[0.1,1,5,10,50,100], \n",
    "              'l1_ratio':[0.1,0.5,0.7,0.95,0.99,1]}"
   ]
  },
  {
   "cell_type": "code",
   "execution_count": 40,
   "id": "ff84d23a",
   "metadata": {},
   "outputs": [],
   "source": [
    "gb_model = GradientBoostingRegressor()\n",
    "\n",
    "gb_grid = GridSearchCV(gb_model,gb_param_grid)"
   ]
  },
  {
   "cell_type": "code",
   "execution_count": 41,
   "id": "6c4bbcbb",
   "metadata": {},
   "outputs": [],
   "source": [
    "en_model = ElasticNet()\n",
    "\n",
    "en_grid = GridSearchCV(en_model,en_param_grid)"
   ]
  },
  {
   "cell_type": "code",
   "execution_count": 42,
   "id": "d9baebbc",
   "metadata": {},
   "outputs": [],
   "source": [
    "#Random Forest Model code goes here\n",
    "\n",
    "\n",
    "rf_model = RandomForestRegressor()\n",
    "\n",
    "#Look at the Random Forest Regessor Notes this may help with what im trying to do"
   ]
  },
  {
   "cell_type": "code",
   "execution_count": 43,
   "id": "d18a1477",
   "metadata": {},
   "outputs": [
    {
     "name": "stderr",
     "output_type": "stream",
     "text": [
      "C:\\Users\\moore\\anaconda3\\lib\\site-packages\\sklearn\\linear_model\\_coordinate_descent.py:530: ConvergenceWarning: Objective did not converge. You might want to increase the number of iterations. Duality gap: 405230550017.3755, tolerance: 504326848.4347934\n",
      "  model = cd_fast.enet_coordinate_descent(\n",
      "C:\\Users\\moore\\anaconda3\\lib\\site-packages\\sklearn\\linear_model\\_coordinate_descent.py:530: ConvergenceWarning: Objective did not converge. You might want to increase the number of iterations. Duality gap: 360672064831.3573, tolerance: 525613891.58679193\n",
      "  model = cd_fast.enet_coordinate_descent(\n",
      "C:\\Users\\moore\\anaconda3\\lib\\site-packages\\sklearn\\linear_model\\_coordinate_descent.py:530: ConvergenceWarning: Objective did not converge. You might want to increase the number of iterations. Duality gap: 420336667024.0316, tolerance: 501394598.2019835\n",
      "  model = cd_fast.enet_coordinate_descent(\n",
      "C:\\Users\\moore\\anaconda3\\lib\\site-packages\\sklearn\\linear_model\\_coordinate_descent.py:530: ConvergenceWarning: Objective did not converge. You might want to increase the number of iterations. Duality gap: 400092473067.2459, tolerance: 510530949.73962504\n",
      "  model = cd_fast.enet_coordinate_descent(\n",
      "C:\\Users\\moore\\anaconda3\\lib\\site-packages\\sklearn\\linear_model\\_coordinate_descent.py:530: ConvergenceWarning: Objective did not converge. You might want to increase the number of iterations. Duality gap: 442245412277.06085, tolerance: 537505124.4671557\n",
      "  model = cd_fast.enet_coordinate_descent(\n",
      "C:\\Users\\moore\\anaconda3\\lib\\site-packages\\sklearn\\linear_model\\_coordinate_descent.py:530: ConvergenceWarning: Objective did not converge. You might want to increase the number of iterations. Duality gap: 380249123318.62, tolerance: 504326848.4347934\n",
      "  model = cd_fast.enet_coordinate_descent(\n",
      "C:\\Users\\moore\\anaconda3\\lib\\site-packages\\sklearn\\linear_model\\_coordinate_descent.py:530: ConvergenceWarning: Objective did not converge. You might want to increase the number of iterations. Duality gap: 340728921155.53674, tolerance: 525613891.58679193\n",
      "  model = cd_fast.enet_coordinate_descent(\n",
      "C:\\Users\\moore\\anaconda3\\lib\\site-packages\\sklearn\\linear_model\\_coordinate_descent.py:530: ConvergenceWarning: Objective did not converge. You might want to increase the number of iterations. Duality gap: 404263774320.44434, tolerance: 501394598.2019835\n",
      "  model = cd_fast.enet_coordinate_descent(\n",
      "C:\\Users\\moore\\anaconda3\\lib\\site-packages\\sklearn\\linear_model\\_coordinate_descent.py:530: ConvergenceWarning: Objective did not converge. You might want to increase the number of iterations. Duality gap: 367642238609.72925, tolerance: 510530949.73962504\n",
      "  model = cd_fast.enet_coordinate_descent(\n",
      "C:\\Users\\moore\\anaconda3\\lib\\site-packages\\sklearn\\linear_model\\_coordinate_descent.py:530: ConvergenceWarning: Objective did not converge. You might want to increase the number of iterations. Duality gap: 422351673110.0631, tolerance: 537505124.4671557\n",
      "  model = cd_fast.enet_coordinate_descent(\n",
      "C:\\Users\\moore\\anaconda3\\lib\\site-packages\\sklearn\\linear_model\\_coordinate_descent.py:530: ConvergenceWarning: Objective did not converge. You might want to increase the number of iterations. Duality gap: 359657378236.9188, tolerance: 504326848.4347934\n",
      "  model = cd_fast.enet_coordinate_descent(\n",
      "C:\\Users\\moore\\anaconda3\\lib\\site-packages\\sklearn\\linear_model\\_coordinate_descent.py:530: ConvergenceWarning: Objective did not converge. You might want to increase the number of iterations. Duality gap: 326387322399.2983, tolerance: 525613891.58679193\n",
      "  model = cd_fast.enet_coordinate_descent(\n",
      "C:\\Users\\moore\\anaconda3\\lib\\site-packages\\sklearn\\linear_model\\_coordinate_descent.py:530: ConvergenceWarning: Objective did not converge. You might want to increase the number of iterations. Duality gap: 392801628833.5986, tolerance: 501394598.2019835\n",
      "  model = cd_fast.enet_coordinate_descent(\n",
      "C:\\Users\\moore\\anaconda3\\lib\\site-packages\\sklearn\\linear_model\\_coordinate_descent.py:530: ConvergenceWarning: Objective did not converge. You might want to increase the number of iterations. Duality gap: 356109368064.2736, tolerance: 510530949.73962504\n",
      "  model = cd_fast.enet_coordinate_descent(\n",
      "C:\\Users\\moore\\anaconda3\\lib\\site-packages\\sklearn\\linear_model\\_coordinate_descent.py:530: ConvergenceWarning: Objective did not converge. You might want to increase the number of iterations. Duality gap: 408508121000.27637, tolerance: 537505124.4671557\n",
      "  model = cd_fast.enet_coordinate_descent(\n",
      "C:\\Users\\moore\\anaconda3\\lib\\site-packages\\sklearn\\linear_model\\_coordinate_descent.py:530: ConvergenceWarning: Objective did not converge. You might want to increase the number of iterations. Duality gap: 297020826748.22974, tolerance: 525613891.58679193\n",
      "  model = cd_fast.enet_coordinate_descent(\n",
      "C:\\Users\\moore\\anaconda3\\lib\\site-packages\\sklearn\\linear_model\\_coordinate_descent.py:530: ConvergenceWarning: Objective did not converge. You might want to increase the number of iterations. Duality gap: 368214995978.21545, tolerance: 501394598.2019835\n",
      "  model = cd_fast.enet_coordinate_descent(\n",
      "C:\\Users\\moore\\anaconda3\\lib\\site-packages\\sklearn\\linear_model\\_coordinate_descent.py:530: ConvergenceWarning: Objective did not converge. You might want to increase the number of iterations. Duality gap: 337826874729.1722, tolerance: 510530949.73962504\n",
      "  model = cd_fast.enet_coordinate_descent(\n",
      "C:\\Users\\moore\\anaconda3\\lib\\site-packages\\sklearn\\linear_model\\_coordinate_descent.py:530: ConvergenceWarning: Objective did not converge. You might want to increase the number of iterations. Duality gap: 375431281726.1479, tolerance: 537505124.4671557\n",
      "  model = cd_fast.enet_coordinate_descent(\n",
      "C:\\Users\\moore\\anaconda3\\lib\\site-packages\\sklearn\\linear_model\\_coordinate_descent.py:530: ConvergenceWarning: Objective did not converge. You might want to increase the number of iterations. Duality gap: 293388672312.239, tolerance: 504326848.4347934\n",
      "  model = cd_fast.enet_coordinate_descent(\n",
      "C:\\Users\\moore\\anaconda3\\lib\\site-packages\\sklearn\\linear_model\\_coordinate_descent.py:530: ConvergenceWarning: Objective did not converge. You might want to increase the number of iterations. Duality gap: 288940644492.2694, tolerance: 525613891.58679193\n",
      "  model = cd_fast.enet_coordinate_descent(\n",
      "C:\\Users\\moore\\anaconda3\\lib\\site-packages\\sklearn\\linear_model\\_coordinate_descent.py:530: ConvergenceWarning: Objective did not converge. You might want to increase the number of iterations. Duality gap: 361081986281.6037, tolerance: 501394598.2019835\n",
      "  model = cd_fast.enet_coordinate_descent(\n",
      "C:\\Users\\moore\\anaconda3\\lib\\site-packages\\sklearn\\linear_model\\_coordinate_descent.py:530: ConvergenceWarning: Objective did not converge. You might want to increase the number of iterations. Duality gap: 333045700927.60913, tolerance: 510530949.73962504\n",
      "  model = cd_fast.enet_coordinate_descent(\n",
      "C:\\Users\\moore\\anaconda3\\lib\\site-packages\\sklearn\\linear_model\\_coordinate_descent.py:530: ConvergenceWarning: Objective did not converge. You might want to increase the number of iterations. Duality gap: 363729821008.3399, tolerance: 537505124.4671557\n",
      "  model = cd_fast.enet_coordinate_descent(\n",
      "C:\\Users\\moore\\anaconda3\\lib\\site-packages\\sklearn\\linear_model\\_coordinate_descent.py:530: ConvergenceWarning: Objective did not converge. You might want to increase the number of iterations. Duality gap: 315163457878.86194, tolerance: 504326848.4347934\n",
      "  model = cd_fast.enet_coordinate_descent(\n",
      "C:\\Users\\moore\\anaconda3\\lib\\site-packages\\sklearn\\linear_model\\_coordinate_descent.py:530: ConvergenceWarning: Objective did not converge. You might want to increase the number of iterations. Duality gap: 286226257106.8099, tolerance: 525613891.58679193\n",
      "  model = cd_fast.enet_coordinate_descent(\n",
      "C:\\Users\\moore\\anaconda3\\lib\\site-packages\\sklearn\\linear_model\\_coordinate_descent.py:530: ConvergenceWarning: Objective did not converge. You might want to increase the number of iterations. Duality gap: 358764241475.0526, tolerance: 501394598.2019835\n",
      "  model = cd_fast.enet_coordinate_descent(\n",
      "C:\\Users\\moore\\anaconda3\\lib\\site-packages\\sklearn\\linear_model\\_coordinate_descent.py:530: ConvergenceWarning: Objective did not converge. You might want to increase the number of iterations. Duality gap: 331650488775.7678, tolerance: 510530949.73962504\n",
      "  model = cd_fast.enet_coordinate_descent(\n",
      "C:\\Users\\moore\\anaconda3\\lib\\site-packages\\sklearn\\linear_model\\_coordinate_descent.py:530: ConvergenceWarning: Objective did not converge. You might want to increase the number of iterations. Duality gap: 359878970386.83374, tolerance: 537505124.4671557\n",
      "  model = cd_fast.enet_coordinate_descent(\n",
      "C:\\Users\\moore\\anaconda3\\lib\\site-packages\\sklearn\\linear_model\\_coordinate_descent.py:530: ConvergenceWarning: Objective did not converge. You might want to increase the number of iterations. Duality gap: 461810553864.24963, tolerance: 504326848.4347934\n",
      "  model = cd_fast.enet_coordinate_descent(\n",
      "C:\\Users\\moore\\anaconda3\\lib\\site-packages\\sklearn\\linear_model\\_coordinate_descent.py:530: ConvergenceWarning: Objective did not converge. You might want to increase the number of iterations. Duality gap: 432350854138.87146, tolerance: 525613891.58679193\n",
      "  model = cd_fast.enet_coordinate_descent(\n",
      "C:\\Users\\moore\\anaconda3\\lib\\site-packages\\sklearn\\linear_model\\_coordinate_descent.py:530: ConvergenceWarning: Objective did not converge. You might want to increase the number of iterations. Duality gap: 469425342141.55176, tolerance: 501394598.2019835\n",
      "  model = cd_fast.enet_coordinate_descent(\n",
      "C:\\Users\\moore\\anaconda3\\lib\\site-packages\\sklearn\\linear_model\\_coordinate_descent.py:530: ConvergenceWarning: Objective did not converge. You might want to increase the number of iterations. Duality gap: 54238450981.70093, tolerance: 510530949.73962504\n",
      "  model = cd_fast.enet_coordinate_descent(\n",
      "C:\\Users\\moore\\anaconda3\\lib\\site-packages\\sklearn\\linear_model\\_coordinate_descent.py:530: ConvergenceWarning: Objective did not converge. You might want to increase the number of iterations. Duality gap: 521161090765.2408, tolerance: 537505124.4671557\n",
      "  model = cd_fast.enet_coordinate_descent(\n",
      "C:\\Users\\moore\\anaconda3\\lib\\site-packages\\sklearn\\linear_model\\_coordinate_descent.py:530: ConvergenceWarning: Objective did not converge. You might want to increase the number of iterations. Duality gap: 367101310646.67303, tolerance: 504326848.4347934\n",
      "  model = cd_fast.enet_coordinate_descent(\n",
      "C:\\Users\\moore\\anaconda3\\lib\\site-packages\\sklearn\\linear_model\\_coordinate_descent.py:530: ConvergenceWarning: Objective did not converge. You might want to increase the number of iterations. Duality gap: 387414981690.2336, tolerance: 525613891.58679193\n",
      "  model = cd_fast.enet_coordinate_descent(\n"
     ]
    },
    {
     "name": "stderr",
     "output_type": "stream",
     "text": [
      "C:\\Users\\moore\\anaconda3\\lib\\site-packages\\sklearn\\linear_model\\_coordinate_descent.py:530: ConvergenceWarning: Objective did not converge. You might want to increase the number of iterations. Duality gap: 420201832433.1644, tolerance: 501394598.2019835\n",
      "  model = cd_fast.enet_coordinate_descent(\n",
      "C:\\Users\\moore\\anaconda3\\lib\\site-packages\\sklearn\\linear_model\\_coordinate_descent.py:530: ConvergenceWarning: Objective did not converge. You might want to increase the number of iterations. Duality gap: 983418423.3643799, tolerance: 510530949.73962504\n",
      "  model = cd_fast.enet_coordinate_descent(\n",
      "C:\\Users\\moore\\anaconda3\\lib\\site-packages\\sklearn\\linear_model\\_coordinate_descent.py:530: ConvergenceWarning: Objective did not converge. You might want to increase the number of iterations. Duality gap: 488796410553.0917, tolerance: 537505124.4671557\n",
      "  model = cd_fast.enet_coordinate_descent(\n",
      "C:\\Users\\moore\\anaconda3\\lib\\site-packages\\sklearn\\linear_model\\_coordinate_descent.py:530: ConvergenceWarning: Objective did not converge. You might want to increase the number of iterations. Duality gap: 310647887381.1294, tolerance: 504326848.4347934\n",
      "  model = cd_fast.enet_coordinate_descent(\n",
      "C:\\Users\\moore\\anaconda3\\lib\\site-packages\\sklearn\\linear_model\\_coordinate_descent.py:530: ConvergenceWarning: Objective did not converge. You might want to increase the number of iterations. Duality gap: 364514193167.76306, tolerance: 525613891.58679193\n",
      "  model = cd_fast.enet_coordinate_descent(\n",
      "C:\\Users\\moore\\anaconda3\\lib\\site-packages\\sklearn\\linear_model\\_coordinate_descent.py:530: ConvergenceWarning: Objective did not converge. You might want to increase the number of iterations. Duality gap: 396179495739.687, tolerance: 501394598.2019835\n",
      "  model = cd_fast.enet_coordinate_descent(\n",
      "C:\\Users\\moore\\anaconda3\\lib\\site-packages\\sklearn\\linear_model\\_coordinate_descent.py:530: ConvergenceWarning: Objective did not converge. You might want to increase the number of iterations. Duality gap: 3007014581.522949, tolerance: 510530949.73962504\n",
      "  model = cd_fast.enet_coordinate_descent(\n",
      "C:\\Users\\moore\\anaconda3\\lib\\site-packages\\sklearn\\linear_model\\_coordinate_descent.py:530: ConvergenceWarning: Objective did not converge. You might want to increase the number of iterations. Duality gap: 450679282180.49774, tolerance: 537505124.4671557\n",
      "  model = cd_fast.enet_coordinate_descent(\n",
      "C:\\Users\\moore\\anaconda3\\lib\\site-packages\\sklearn\\linear_model\\_coordinate_descent.py:530: ConvergenceWarning: Objective did not converge. You might want to increase the number of iterations. Duality gap: 156993894895.22183, tolerance: 504326848.4347934\n",
      "  model = cd_fast.enet_coordinate_descent(\n",
      "C:\\Users\\moore\\anaconda3\\lib\\site-packages\\sklearn\\linear_model\\_coordinate_descent.py:530: ConvergenceWarning: Objective did not converge. You might want to increase the number of iterations. Duality gap: 310976281941.9091, tolerance: 525613891.58679193\n",
      "  model = cd_fast.enet_coordinate_descent(\n",
      "C:\\Users\\moore\\anaconda3\\lib\\site-packages\\sklearn\\linear_model\\_coordinate_descent.py:530: ConvergenceWarning: Objective did not converge. You might want to increase the number of iterations. Duality gap: 358076411257.7655, tolerance: 501394598.2019835\n",
      "  model = cd_fast.enet_coordinate_descent(\n",
      "C:\\Users\\moore\\anaconda3\\lib\\site-packages\\sklearn\\linear_model\\_coordinate_descent.py:530: ConvergenceWarning: Objective did not converge. You might want to increase the number of iterations. Duality gap: 149168031932.1801, tolerance: 510530949.73962504\n",
      "  model = cd_fast.enet_coordinate_descent(\n",
      "C:\\Users\\moore\\anaconda3\\lib\\site-packages\\sklearn\\linear_model\\_coordinate_descent.py:530: ConvergenceWarning: Objective did not converge. You might want to increase the number of iterations. Duality gap: 334456855909.1249, tolerance: 537505124.4671557\n",
      "  model = cd_fast.enet_coordinate_descent(\n",
      "C:\\Users\\moore\\anaconda3\\lib\\site-packages\\sklearn\\linear_model\\_coordinate_descent.py:530: ConvergenceWarning: Objective did not converge. You might want to increase the number of iterations. Duality gap: 6135815882.187134, tolerance: 504326848.4347934\n",
      "  model = cd_fast.enet_coordinate_descent(\n",
      "C:\\Users\\moore\\anaconda3\\lib\\site-packages\\sklearn\\linear_model\\_coordinate_descent.py:530: ConvergenceWarning: Objective did not converge. You might want to increase the number of iterations. Duality gap: 281986225114.62994, tolerance: 525613891.58679193\n",
      "  model = cd_fast.enet_coordinate_descent(\n",
      "C:\\Users\\moore\\anaconda3\\lib\\site-packages\\sklearn\\linear_model\\_coordinate_descent.py:530: ConvergenceWarning: Objective did not converge. You might want to increase the number of iterations. Duality gap: 344700749891.9921, tolerance: 501394598.2019835\n",
      "  model = cd_fast.enet_coordinate_descent(\n",
      "C:\\Users\\moore\\anaconda3\\lib\\site-packages\\sklearn\\linear_model\\_coordinate_descent.py:530: ConvergenceWarning: Objective did not converge. You might want to increase the number of iterations. Duality gap: 215298510087.88565, tolerance: 510530949.73962504\n",
      "  model = cd_fast.enet_coordinate_descent(\n",
      "C:\\Users\\moore\\anaconda3\\lib\\site-packages\\sklearn\\linear_model\\_coordinate_descent.py:530: ConvergenceWarning: Objective did not converge. You might want to increase the number of iterations. Duality gap: 302154893962.86914, tolerance: 537505124.4671557\n",
      "  model = cd_fast.enet_coordinate_descent(\n",
      "C:\\Users\\moore\\anaconda3\\lib\\site-packages\\sklearn\\linear_model\\_coordinate_descent.py:530: ConvergenceWarning: Objective did not converge. You might want to increase the number of iterations. Duality gap: 182540876232.26828, tolerance: 504326848.4347934\n",
      "  model = cd_fast.enet_coordinate_descent(\n",
      "C:\\Users\\moore\\anaconda3\\lib\\site-packages\\sklearn\\linear_model\\_coordinate_descent.py:530: ConvergenceWarning: Objective did not converge. You might want to increase the number of iterations. Duality gap: 266293317899.34183, tolerance: 525613891.58679193\n",
      "  model = cd_fast.enet_coordinate_descent(\n",
      "C:\\Users\\moore\\anaconda3\\lib\\site-packages\\sklearn\\linear_model\\_coordinate_descent.py:530: ConvergenceWarning: Objective did not converge. You might want to increase the number of iterations. Duality gap: 336381802127.4214, tolerance: 501394598.2019835\n",
      "  model = cd_fast.enet_coordinate_descent(\n",
      "C:\\Users\\moore\\anaconda3\\lib\\site-packages\\sklearn\\linear_model\\_coordinate_descent.py:530: ConvergenceWarning: Objective did not converge. You might want to increase the number of iterations. Duality gap: 233598566901.95062, tolerance: 510530949.73962504\n",
      "  model = cd_fast.enet_coordinate_descent(\n",
      "C:\\Users\\moore\\anaconda3\\lib\\site-packages\\sklearn\\linear_model\\_coordinate_descent.py:530: ConvergenceWarning: Objective did not converge. You might want to increase the number of iterations. Duality gap: 244443628673.8379, tolerance: 537505124.4671557\n",
      "  model = cd_fast.enet_coordinate_descent(\n",
      "C:\\Users\\moore\\anaconda3\\lib\\site-packages\\sklearn\\linear_model\\_coordinate_descent.py:530: ConvergenceWarning: Objective did not converge. You might want to increase the number of iterations. Duality gap: 419305313625.4495, tolerance: 504326848.4347934\n",
      "  model = cd_fast.enet_coordinate_descent(\n",
      "C:\\Users\\moore\\anaconda3\\lib\\site-packages\\sklearn\\linear_model\\_coordinate_descent.py:530: ConvergenceWarning: Objective did not converge. You might want to increase the number of iterations. Duality gap: 393974705086.39374, tolerance: 525613891.58679193\n",
      "  model = cd_fast.enet_coordinate_descent(\n",
      "C:\\Users\\moore\\anaconda3\\lib\\site-packages\\sklearn\\linear_model\\_coordinate_descent.py:530: ConvergenceWarning: Objective did not converge. You might want to increase the number of iterations. Duality gap: 443707444463.36426, tolerance: 501394598.2019835\n",
      "  model = cd_fast.enet_coordinate_descent(\n",
      "C:\\Users\\moore\\anaconda3\\lib\\site-packages\\sklearn\\linear_model\\_coordinate_descent.py:530: ConvergenceWarning: Objective did not converge. You might want to increase the number of iterations. Duality gap: 8698299287.245361, tolerance: 510530949.73962504\n",
      "  model = cd_fast.enet_coordinate_descent(\n",
      "C:\\Users\\moore\\anaconda3\\lib\\site-packages\\sklearn\\linear_model\\_coordinate_descent.py:530: ConvergenceWarning: Objective did not converge. You might want to increase the number of iterations. Duality gap: 553863844797.4083, tolerance: 537505124.4671557\n",
      "  model = cd_fast.enet_coordinate_descent(\n",
      "C:\\Users\\moore\\anaconda3\\lib\\site-packages\\sklearn\\linear_model\\_coordinate_descent.py:530: ConvergenceWarning: Objective did not converge. You might want to increase the number of iterations. Duality gap: 34316398529.763794, tolerance: 504326848.4347934\n",
      "  model = cd_fast.enet_coordinate_descent(\n",
      "C:\\Users\\moore\\anaconda3\\lib\\site-packages\\sklearn\\linear_model\\_coordinate_descent.py:530: ConvergenceWarning: Objective did not converge. You might want to increase the number of iterations. Duality gap: 237628520549.3786, tolerance: 525613891.58679193\n",
      "  model = cd_fast.enet_coordinate_descent(\n",
      "C:\\Users\\moore\\anaconda3\\lib\\site-packages\\sklearn\\linear_model\\_coordinate_descent.py:530: ConvergenceWarning: Objective did not converge. You might want to increase the number of iterations. Duality gap: 285281628303.24414, tolerance: 501394598.2019835\n",
      "  model = cd_fast.enet_coordinate_descent(\n"
     ]
    },
    {
     "name": "stderr",
     "output_type": "stream",
     "text": [
      "C:\\Users\\moore\\anaconda3\\lib\\site-packages\\sklearn\\linear_model\\_coordinate_descent.py:530: ConvergenceWarning: Objective did not converge. You might want to increase the number of iterations. Duality gap: 514095957653.49457, tolerance: 537505124.4671557\n",
      "  model = cd_fast.enet_coordinate_descent(\n",
      "C:\\Users\\moore\\anaconda3\\lib\\site-packages\\sklearn\\linear_model\\_coordinate_descent.py:530: ConvergenceWarning: Objective did not converge. You might want to increase the number of iterations. Duality gap: 19422572331.005493, tolerance: 504326848.4347934\n",
      "  model = cd_fast.enet_coordinate_descent(\n",
      "C:\\Users\\moore\\anaconda3\\lib\\site-packages\\sklearn\\linear_model\\_coordinate_descent.py:530: ConvergenceWarning: Objective did not converge. You might want to increase the number of iterations. Duality gap: 213582463647.67212, tolerance: 525613891.58679193\n",
      "  model = cd_fast.enet_coordinate_descent(\n",
      "C:\\Users\\moore\\anaconda3\\lib\\site-packages\\sklearn\\linear_model\\_coordinate_descent.py:530: ConvergenceWarning: Objective did not converge. You might want to increase the number of iterations. Duality gap: 241231042822.5668, tolerance: 501394598.2019835\n",
      "  model = cd_fast.enet_coordinate_descent(\n",
      "C:\\Users\\moore\\anaconda3\\lib\\site-packages\\sklearn\\linear_model\\_coordinate_descent.py:530: ConvergenceWarning: Objective did not converge. You might want to increase the number of iterations. Duality gap: 480016450185.42267, tolerance: 537505124.4671557\n",
      "  model = cd_fast.enet_coordinate_descent(\n",
      "C:\\Users\\moore\\anaconda3\\lib\\site-packages\\sklearn\\linear_model\\_coordinate_descent.py:530: ConvergenceWarning: Objective did not converge. You might want to increase the number of iterations. Duality gap: 8876234221.455688, tolerance: 504326848.4347934\n",
      "  model = cd_fast.enet_coordinate_descent(\n",
      "C:\\Users\\moore\\anaconda3\\lib\\site-packages\\sklearn\\linear_model\\_coordinate_descent.py:530: ConvergenceWarning: Objective did not converge. You might want to increase the number of iterations. Duality gap: 221235725844.4079, tolerance: 525613891.58679193\n",
      "  model = cd_fast.enet_coordinate_descent(\n",
      "C:\\Users\\moore\\anaconda3\\lib\\site-packages\\sklearn\\linear_model\\_coordinate_descent.py:530: ConvergenceWarning: Objective did not converge. You might want to increase the number of iterations. Duality gap: 212555903620.01276, tolerance: 501394598.2019835\n",
      "  model = cd_fast.enet_coordinate_descent(\n",
      "C:\\Users\\moore\\anaconda3\\lib\\site-packages\\sklearn\\linear_model\\_coordinate_descent.py:530: ConvergenceWarning: Objective did not converge. You might want to increase the number of iterations. Duality gap: 144198569637.39612, tolerance: 537505124.4671557\n",
      "  model = cd_fast.enet_coordinate_descent(\n",
      "C:\\Users\\moore\\anaconda3\\lib\\site-packages\\sklearn\\linear_model\\_coordinate_descent.py:530: ConvergenceWarning: Objective did not converge. You might want to increase the number of iterations. Duality gap: 4337998187.667114, tolerance: 504326848.4347934\n",
      "  model = cd_fast.enet_coordinate_descent(\n",
      "C:\\Users\\moore\\anaconda3\\lib\\site-packages\\sklearn\\linear_model\\_coordinate_descent.py:530: ConvergenceWarning: Objective did not converge. You might want to increase the number of iterations. Duality gap: 216639196195.14996, tolerance: 525613891.58679193\n",
      "  model = cd_fast.enet_coordinate_descent(\n",
      "C:\\Users\\moore\\anaconda3\\lib\\site-packages\\sklearn\\linear_model\\_coordinate_descent.py:530: ConvergenceWarning: Objective did not converge. You might want to increase the number of iterations. Duality gap: 224750209315.47794, tolerance: 501394598.2019835\n",
      "  model = cd_fast.enet_coordinate_descent(\n",
      "C:\\Users\\moore\\anaconda3\\lib\\site-packages\\sklearn\\linear_model\\_coordinate_descent.py:530: ConvergenceWarning: Objective did not converge. You might want to increase the number of iterations. Duality gap: 22005138446.224, tolerance: 510530949.73962504\n",
      "  model = cd_fast.enet_coordinate_descent(\n",
      "C:\\Users\\moore\\anaconda3\\lib\\site-packages\\sklearn\\linear_model\\_coordinate_descent.py:530: ConvergenceWarning: Objective did not converge. You might want to increase the number of iterations. Duality gap: 151147785501.864, tolerance: 537505124.4671557\n",
      "  model = cd_fast.enet_coordinate_descent(\n",
      "C:\\Users\\moore\\anaconda3\\lib\\site-packages\\sklearn\\linear_model\\_coordinate_descent.py:530: ConvergenceWarning: Objective did not converge. You might want to increase the number of iterations. Duality gap: 39070513408.89514, tolerance: 504326848.4347934\n",
      "  model = cd_fast.enet_coordinate_descent(\n",
      "C:\\Users\\moore\\anaconda3\\lib\\site-packages\\sklearn\\linear_model\\_coordinate_descent.py:530: ConvergenceWarning: Objective did not converge. You might want to increase the number of iterations. Duality gap: 197923730430.32596, tolerance: 525613891.58679193\n",
      "  model = cd_fast.enet_coordinate_descent(\n",
      "C:\\Users\\moore\\anaconda3\\lib\\site-packages\\sklearn\\linear_model\\_coordinate_descent.py:530: ConvergenceWarning: Objective did not converge. You might want to increase the number of iterations. Duality gap: 257682829940.61, tolerance: 501394598.2019835\n",
      "  model = cd_fast.enet_coordinate_descent(\n",
      "C:\\Users\\moore\\anaconda3\\lib\\site-packages\\sklearn\\linear_model\\_coordinate_descent.py:530: ConvergenceWarning: Objective did not converge. You might want to increase the number of iterations. Duality gap: 78900070547.42834, tolerance: 510530949.73962504\n",
      "  model = cd_fast.enet_coordinate_descent(\n",
      "C:\\Users\\moore\\anaconda3\\lib\\site-packages\\sklearn\\linear_model\\_coordinate_descent.py:530: ConvergenceWarning: Objective did not converge. You might want to increase the number of iterations. Duality gap: 80750132666.65607, tolerance: 537505124.4671557\n",
      "  model = cd_fast.enet_coordinate_descent(\n",
      "C:\\Users\\moore\\anaconda3\\lib\\site-packages\\sklearn\\linear_model\\_coordinate_descent.py:530: ConvergenceWarning: Objective did not converge. You might want to increase the number of iterations. Duality gap: 317227833825.6067, tolerance: 504326848.4347934\n",
      "  model = cd_fast.enet_coordinate_descent(\n",
      "C:\\Users\\moore\\anaconda3\\lib\\site-packages\\sklearn\\linear_model\\_coordinate_descent.py:530: ConvergenceWarning: Objective did not converge. You might want to increase the number of iterations. Duality gap: 302158749772.89246, tolerance: 525613891.58679193\n",
      "  model = cd_fast.enet_coordinate_descent(\n",
      "C:\\Users\\moore\\anaconda3\\lib\\site-packages\\sklearn\\linear_model\\_coordinate_descent.py:530: ConvergenceWarning: Objective did not converge. You might want to increase the number of iterations. Duality gap: 384609964274.2964, tolerance: 501394598.2019835\n",
      "  model = cd_fast.enet_coordinate_descent(\n",
      "C:\\Users\\moore\\anaconda3\\lib\\site-packages\\sklearn\\linear_model\\_coordinate_descent.py:530: ConvergenceWarning: Objective did not converge. You might want to increase the number of iterations. Duality gap: 3159112021.064209, tolerance: 510530949.73962504\n",
      "  model = cd_fast.enet_coordinate_descent(\n",
      "C:\\Users\\moore\\anaconda3\\lib\\site-packages\\sklearn\\linear_model\\_coordinate_descent.py:530: ConvergenceWarning: Objective did not converge. You might want to increase the number of iterations. Duality gap: 555645813375.4459, tolerance: 537505124.4671557\n",
      "  model = cd_fast.enet_coordinate_descent(\n",
      "C:\\Users\\moore\\anaconda3\\lib\\site-packages\\sklearn\\linear_model\\_coordinate_descent.py:530: ConvergenceWarning: Objective did not converge. You might want to increase the number of iterations. Duality gap: 11763756418.007812, tolerance: 504326848.4347934\n",
      "  model = cd_fast.enet_coordinate_descent(\n",
      "C:\\Users\\moore\\anaconda3\\lib\\site-packages\\sklearn\\linear_model\\_coordinate_descent.py:530: ConvergenceWarning: Objective did not converge. You might want to increase the number of iterations. Duality gap: 113338235328.94281, tolerance: 525613891.58679193\n",
      "  model = cd_fast.enet_coordinate_descent(\n",
      "C:\\Users\\moore\\anaconda3\\lib\\site-packages\\sklearn\\linear_model\\_coordinate_descent.py:530: ConvergenceWarning: Objective did not converge. You might want to increase the number of iterations. Duality gap: 174638499925.54034, tolerance: 501394598.2019835\n",
      "  model = cd_fast.enet_coordinate_descent(\n",
      "C:\\Users\\moore\\anaconda3\\lib\\site-packages\\sklearn\\linear_model\\_coordinate_descent.py:530: ConvergenceWarning: Objective did not converge. You might want to increase the number of iterations. Duality gap: 494945891726.7535, tolerance: 537505124.4671557\n",
      "  model = cd_fast.enet_coordinate_descent(\n",
      "C:\\Users\\moore\\anaconda3\\lib\\site-packages\\sklearn\\linear_model\\_coordinate_descent.py:530: ConvergenceWarning: Objective did not converge. You might want to increase the number of iterations. Duality gap: 6398994100.851685, tolerance: 504326848.4347934\n",
      "  model = cd_fast.enet_coordinate_descent(\n"
     ]
    },
    {
     "name": "stderr",
     "output_type": "stream",
     "text": [
      "C:\\Users\\moore\\anaconda3\\lib\\site-packages\\sklearn\\linear_model\\_coordinate_descent.py:530: ConvergenceWarning: Objective did not converge. You might want to increase the number of iterations. Duality gap: 96160872980.6352, tolerance: 525613891.58679193\n",
      "  model = cd_fast.enet_coordinate_descent(\n",
      "C:\\Users\\moore\\anaconda3\\lib\\site-packages\\sklearn\\linear_model\\_coordinate_descent.py:530: ConvergenceWarning: Objective did not converge. You might want to increase the number of iterations. Duality gap: 135242597630.70905, tolerance: 501394598.2019835\n",
      "  model = cd_fast.enet_coordinate_descent(\n",
      "C:\\Users\\moore\\anaconda3\\lib\\site-packages\\sklearn\\linear_model\\_coordinate_descent.py:530: ConvergenceWarning: Objective did not converge. You might want to increase the number of iterations. Duality gap: 453127359287.5097, tolerance: 537505124.4671557\n",
      "  model = cd_fast.enet_coordinate_descent(\n",
      "C:\\Users\\moore\\anaconda3\\lib\\site-packages\\sklearn\\linear_model\\_coordinate_descent.py:530: ConvergenceWarning: Objective did not converge. You might want to increase the number of iterations. Duality gap: 2947430276.0527344, tolerance: 504326848.4347934\n",
      "  model = cd_fast.enet_coordinate_descent(\n",
      "C:\\Users\\moore\\anaconda3\\lib\\site-packages\\sklearn\\linear_model\\_coordinate_descent.py:530: ConvergenceWarning: Objective did not converge. You might want to increase the number of iterations. Duality gap: 125352941929.1377, tolerance: 525613891.58679193\n",
      "  model = cd_fast.enet_coordinate_descent(\n",
      "C:\\Users\\moore\\anaconda3\\lib\\site-packages\\sklearn\\linear_model\\_coordinate_descent.py:530: ConvergenceWarning: Objective did not converge. You might want to increase the number of iterations. Duality gap: 116068210049.42255, tolerance: 501394598.2019835\n",
      "  model = cd_fast.enet_coordinate_descent(\n",
      "C:\\Users\\moore\\anaconda3\\lib\\site-packages\\sklearn\\linear_model\\_coordinate_descent.py:530: ConvergenceWarning: Objective did not converge. You might want to increase the number of iterations. Duality gap: 197641990326.78223, tolerance: 537505124.4671557\n",
      "  model = cd_fast.enet_coordinate_descent(\n",
      "C:\\Users\\moore\\anaconda3\\lib\\site-packages\\sklearn\\linear_model\\_coordinate_descent.py:530: ConvergenceWarning: Objective did not converge. You might want to increase the number of iterations. Duality gap: 1856120476.607788, tolerance: 504326848.4347934\n",
      "  model = cd_fast.enet_coordinate_descent(\n",
      "C:\\Users\\moore\\anaconda3\\lib\\site-packages\\sklearn\\linear_model\\_coordinate_descent.py:530: ConvergenceWarning: Objective did not converge. You might want to increase the number of iterations. Duality gap: 145834516243.6586, tolerance: 525613891.58679193\n",
      "  model = cd_fast.enet_coordinate_descent(\n",
      "C:\\Users\\moore\\anaconda3\\lib\\site-packages\\sklearn\\linear_model\\_coordinate_descent.py:530: ConvergenceWarning: Objective did not converge. You might want to increase the number of iterations. Duality gap: 130542852832.59875, tolerance: 501394598.2019835\n",
      "  model = cd_fast.enet_coordinate_descent(\n",
      "C:\\Users\\moore\\anaconda3\\lib\\site-packages\\sklearn\\linear_model\\_coordinate_descent.py:530: ConvergenceWarning: Objective did not converge. You might want to increase the number of iterations. Duality gap: 2388859587.0961914, tolerance: 510530949.73962504\n",
      "  model = cd_fast.enet_coordinate_descent(\n",
      "C:\\Users\\moore\\anaconda3\\lib\\site-packages\\sklearn\\linear_model\\_coordinate_descent.py:530: ConvergenceWarning: Objective did not converge. You might want to increase the number of iterations. Duality gap: 10822616663.001465, tolerance: 537505124.4671557\n",
      "  model = cd_fast.enet_coordinate_descent(\n",
      "C:\\Users\\moore\\anaconda3\\lib\\site-packages\\sklearn\\linear_model\\_coordinate_descent.py:530: ConvergenceWarning: Objective did not converge. You might want to increase the number of iterations. Duality gap: 12192570822.763794, tolerance: 504326848.4347934\n",
      "  model = cd_fast.enet_coordinate_descent(\n",
      "C:\\Users\\moore\\anaconda3\\lib\\site-packages\\sklearn\\linear_model\\_coordinate_descent.py:530: ConvergenceWarning: Objective did not converge. You might want to increase the number of iterations. Duality gap: 144566008499.3572, tolerance: 525613891.58679193\n",
      "  model = cd_fast.enet_coordinate_descent(\n",
      "C:\\Users\\moore\\anaconda3\\lib\\site-packages\\sklearn\\linear_model\\_coordinate_descent.py:530: ConvergenceWarning: Objective did not converge. You might want to increase the number of iterations. Duality gap: 191969550437.93976, tolerance: 501394598.2019835\n",
      "  model = cd_fast.enet_coordinate_descent(\n",
      "C:\\Users\\moore\\anaconda3\\lib\\site-packages\\sklearn\\linear_model\\_coordinate_descent.py:530: ConvergenceWarning: Objective did not converge. You might want to increase the number of iterations. Duality gap: 34473252286.58038, tolerance: 510530949.73962504\n",
      "  model = cd_fast.enet_coordinate_descent(\n",
      "C:\\Users\\moore\\anaconda3\\lib\\site-packages\\sklearn\\linear_model\\_coordinate_descent.py:530: ConvergenceWarning: Objective did not converge. You might want to increase the number of iterations. Duality gap: 36909746649.602295, tolerance: 537505124.4671557\n",
      "  model = cd_fast.enet_coordinate_descent(\n",
      "C:\\Users\\moore\\anaconda3\\lib\\site-packages\\sklearn\\linear_model\\_coordinate_descent.py:530: ConvergenceWarning: Objective did not converge. You might want to increase the number of iterations. Duality gap: 8167790893.39917, tolerance: 504326848.4347934\n",
      "  model = cd_fast.enet_coordinate_descent(\n",
      "C:\\Users\\moore\\anaconda3\\lib\\site-packages\\sklearn\\linear_model\\_coordinate_descent.py:530: ConvergenceWarning: Objective did not converge. You might want to increase the number of iterations. Duality gap: 8425641828.695435, tolerance: 525613891.58679193\n",
      "  model = cd_fast.enet_coordinate_descent(\n",
      "C:\\Users\\moore\\anaconda3\\lib\\site-packages\\sklearn\\linear_model\\_coordinate_descent.py:530: ConvergenceWarning: Objective did not converge. You might want to increase the number of iterations. Duality gap: 71489251244.8197, tolerance: 501394598.2019835\n",
      "  model = cd_fast.enet_coordinate_descent(\n",
      "C:\\Users\\moore\\anaconda3\\lib\\site-packages\\sklearn\\linear_model\\_coordinate_descent.py:530: ConvergenceWarning: Objective did not converge. You might want to increase the number of iterations. Duality gap: 497392039824.9044, tolerance: 537505124.4671557\n",
      "  model = cd_fast.enet_coordinate_descent(\n",
      "C:\\Users\\moore\\anaconda3\\lib\\site-packages\\sklearn\\linear_model\\_coordinate_descent.py:530: ConvergenceWarning: Objective did not converge. You might want to increase the number of iterations. Duality gap: 516764602.47424316, tolerance: 504326848.4347934\n",
      "  model = cd_fast.enet_coordinate_descent(\n",
      "C:\\Users\\moore\\anaconda3\\lib\\site-packages\\sklearn\\linear_model\\_coordinate_descent.py:530: ConvergenceWarning: Objective did not converge. You might want to increase the number of iterations. Duality gap: 2558258259.1896973, tolerance: 525613891.58679193\n",
      "  model = cd_fast.enet_coordinate_descent(\n",
      "C:\\Users\\moore\\anaconda3\\lib\\site-packages\\sklearn\\linear_model\\_coordinate_descent.py:530: ConvergenceWarning: Objective did not converge. You might want to increase the number of iterations. Duality gap: 12339263283.689331, tolerance: 501394598.2019835\n",
      "  model = cd_fast.enet_coordinate_descent(\n",
      "C:\\Users\\moore\\anaconda3\\lib\\site-packages\\sklearn\\linear_model\\_coordinate_descent.py:530: ConvergenceWarning: Objective did not converge. You might want to increase the number of iterations. Duality gap: 184729442535.0252, tolerance: 537505124.4671557\n",
      "  model = cd_fast.enet_coordinate_descent(\n",
      "C:\\Users\\moore\\anaconda3\\lib\\site-packages\\sklearn\\linear_model\\_coordinate_descent.py:530: ConvergenceWarning: Objective did not converge. You might want to increase the number of iterations. Duality gap: 2786308977.831543, tolerance: 525613891.58679193\n",
      "  model = cd_fast.enet_coordinate_descent(\n",
      "C:\\Users\\moore\\anaconda3\\lib\\site-packages\\sklearn\\linear_model\\_coordinate_descent.py:530: ConvergenceWarning: Objective did not converge. You might want to increase the number of iterations. Duality gap: 9868109852.52893, tolerance: 501394598.2019835\n",
      "  model = cd_fast.enet_coordinate_descent(\n",
      "C:\\Users\\moore\\anaconda3\\lib\\site-packages\\sklearn\\linear_model\\_coordinate_descent.py:530: ConvergenceWarning: Objective did not converge. You might want to increase the number of iterations. Duality gap: 63927580902.6991, tolerance: 537505124.4671557\n",
      "  model = cd_fast.enet_coordinate_descent(\n"
     ]
    },
    {
     "name": "stderr",
     "output_type": "stream",
     "text": [
      "C:\\Users\\moore\\anaconda3\\lib\\site-packages\\sklearn\\linear_model\\_coordinate_descent.py:530: ConvergenceWarning: Objective did not converge. You might want to increase the number of iterations. Duality gap: 6167415938.5448, tolerance: 525613891.58679193\n",
      "  model = cd_fast.enet_coordinate_descent(\n",
      "C:\\Users\\moore\\anaconda3\\lib\\site-packages\\sklearn\\linear_model\\_coordinate_descent.py:530: ConvergenceWarning: Objective did not converge. You might want to increase the number of iterations. Duality gap: 9616497337.003418, tolerance: 501394598.2019835\n",
      "  model = cd_fast.enet_coordinate_descent(\n",
      "C:\\Users\\moore\\anaconda3\\lib\\site-packages\\sklearn\\linear_model\\_coordinate_descent.py:530: ConvergenceWarning: Objective did not converge. You might want to increase the number of iterations. Duality gap: 22971807353.104004, tolerance: 537505124.4671557\n",
      "  model = cd_fast.enet_coordinate_descent(\n",
      "C:\\Users\\moore\\anaconda3\\lib\\site-packages\\sklearn\\linear_model\\_coordinate_descent.py:530: ConvergenceWarning: Objective did not converge. You might want to increase the number of iterations. Duality gap: 14934084365.85315, tolerance: 525613891.58679193\n",
      "  model = cd_fast.enet_coordinate_descent(\n",
      "C:\\Users\\moore\\anaconda3\\lib\\site-packages\\sklearn\\linear_model\\_coordinate_descent.py:530: ConvergenceWarning: Objective did not converge. You might want to increase the number of iterations. Duality gap: 11880758534.15039, tolerance: 501394598.2019835\n",
      "  model = cd_fast.enet_coordinate_descent(\n",
      "C:\\Users\\moore\\anaconda3\\lib\\site-packages\\sklearn\\linear_model\\_coordinate_descent.py:530: ConvergenceWarning: Objective did not converge. You might want to increase the number of iterations. Duality gap: 5417428042.269531, tolerance: 537505124.4671557\n",
      "  model = cd_fast.enet_coordinate_descent(\n",
      "C:\\Users\\moore\\anaconda3\\lib\\site-packages\\sklearn\\linear_model\\_coordinate_descent.py:530: ConvergenceWarning: Objective did not converge. You might want to increase the number of iterations. Duality gap: 30597948693.904724, tolerance: 525613891.58679193\n",
      "  model = cd_fast.enet_coordinate_descent(\n",
      "C:\\Users\\moore\\anaconda3\\lib\\site-packages\\sklearn\\linear_model\\_coordinate_descent.py:530: ConvergenceWarning: Objective did not converge. You might want to increase the number of iterations. Duality gap: 40403902871.21472, tolerance: 501394598.2019835\n",
      "  model = cd_fast.enet_coordinate_descent(\n",
      "C:\\Users\\moore\\anaconda3\\lib\\site-packages\\sklearn\\linear_model\\_coordinate_descent.py:530: ConvergenceWarning: Objective did not converge. You might want to increase the number of iterations. Duality gap: 2845669904.239746, tolerance: 510530949.73962504\n",
      "  model = cd_fast.enet_coordinate_descent(\n",
      "C:\\Users\\moore\\anaconda3\\lib\\site-packages\\sklearn\\linear_model\\_coordinate_descent.py:530: ConvergenceWarning: Objective did not converge. You might want to increase the number of iterations. Duality gap: 5383506691.431641, tolerance: 537505124.4671557\n",
      "  model = cd_fast.enet_coordinate_descent(\n",
      "C:\\Users\\moore\\anaconda3\\lib\\site-packages\\sklearn\\linear_model\\_coordinate_descent.py:530: ConvergenceWarning: Objective did not converge. You might want to increase the number of iterations. Duality gap: 1318666775.1920166, tolerance: 504326848.4347934\n",
      "  model = cd_fast.enet_coordinate_descent(\n",
      "C:\\Users\\moore\\anaconda3\\lib\\site-packages\\sklearn\\linear_model\\_coordinate_descent.py:530: ConvergenceWarning: Objective did not converge. You might want to increase the number of iterations. Duality gap: 2604299435.5913086, tolerance: 501394598.2019835\n",
      "  model = cd_fast.enet_coordinate_descent(\n",
      "C:\\Users\\moore\\anaconda3\\lib\\site-packages\\sklearn\\linear_model\\_coordinate_descent.py:530: ConvergenceWarning: Objective did not converge. You might want to increase the number of iterations. Duality gap: 333908146024.1976, tolerance: 537505124.4671557\n",
      "  model = cd_fast.enet_coordinate_descent(\n",
      "C:\\Users\\moore\\anaconda3\\lib\\site-packages\\sklearn\\linear_model\\_coordinate_descent.py:530: ConvergenceWarning: Objective did not converge. You might want to increase the number of iterations. Duality gap: 1251053719.7259521, tolerance: 501394598.2019835\n",
      "  model = cd_fast.enet_coordinate_descent(\n",
      "C:\\Users\\moore\\anaconda3\\lib\\site-packages\\sklearn\\linear_model\\_coordinate_descent.py:530: ConvergenceWarning: Objective did not converge. You might want to increase the number of iterations. Duality gap: 18620205767.539185, tolerance: 537505124.4671557\n",
      "  model = cd_fast.enet_coordinate_descent(\n",
      "C:\\Users\\moore\\anaconda3\\lib\\site-packages\\sklearn\\linear_model\\_coordinate_descent.py:530: ConvergenceWarning: Objective did not converge. You might want to increase the number of iterations. Duality gap: 1560611400.9487305, tolerance: 501394598.2019835\n",
      "  model = cd_fast.enet_coordinate_descent(\n",
      "C:\\Users\\moore\\anaconda3\\lib\\site-packages\\sklearn\\linear_model\\_coordinate_descent.py:530: ConvergenceWarning: Objective did not converge. You might want to increase the number of iterations. Duality gap: 13457964424.58606, tolerance: 537505124.4671557\n",
      "  model = cd_fast.enet_coordinate_descent(\n",
      "C:\\Users\\moore\\anaconda3\\lib\\site-packages\\sklearn\\linear_model\\_coordinate_descent.py:530: ConvergenceWarning: Objective did not converge. You might want to increase the number of iterations. Duality gap: 1053582435.8024902, tolerance: 525613891.58679193\n",
      "  model = cd_fast.enet_coordinate_descent(\n",
      "C:\\Users\\moore\\anaconda3\\lib\\site-packages\\sklearn\\linear_model\\_coordinate_descent.py:530: ConvergenceWarning: Objective did not converge. You might want to increase the number of iterations. Duality gap: 2384408396.6191406, tolerance: 501394598.2019835\n",
      "  model = cd_fast.enet_coordinate_descent(\n",
      "C:\\Users\\moore\\anaconda3\\lib\\site-packages\\sklearn\\linear_model\\_coordinate_descent.py:530: ConvergenceWarning: Objective did not converge. You might want to increase the number of iterations. Duality gap: 8857110740.936768, tolerance: 537505124.4671557\n",
      "  model = cd_fast.enet_coordinate_descent(\n",
      "C:\\Users\\moore\\anaconda3\\lib\\site-packages\\sklearn\\linear_model\\_coordinate_descent.py:530: ConvergenceWarning: Objective did not converge. You might want to increase the number of iterations. Duality gap: 3098268203.045044, tolerance: 525613891.58679193\n",
      "  model = cd_fast.enet_coordinate_descent(\n",
      "C:\\Users\\moore\\anaconda3\\lib\\site-packages\\sklearn\\linear_model\\_coordinate_descent.py:530: ConvergenceWarning: Objective did not converge. You might want to increase the number of iterations. Duality gap: 3054668756.1550293, tolerance: 501394598.2019835\n",
      "  model = cd_fast.enet_coordinate_descent(\n",
      "C:\\Users\\moore\\anaconda3\\lib\\site-packages\\sklearn\\linear_model\\_coordinate_descent.py:530: ConvergenceWarning: Objective did not converge. You might want to increase the number of iterations. Duality gap: 3254200679.105835, tolerance: 537505124.4671557\n",
      "  model = cd_fast.enet_coordinate_descent(\n",
      "C:\\Users\\moore\\anaconda3\\lib\\site-packages\\sklearn\\linear_model\\_coordinate_descent.py:530: ConvergenceWarning: Objective did not converge. You might want to increase the number of iterations. Duality gap: 13132414391.327454, tolerance: 525613891.58679193\n",
      "  model = cd_fast.enet_coordinate_descent(\n",
      "C:\\Users\\moore\\anaconda3\\lib\\site-packages\\sklearn\\linear_model\\_coordinate_descent.py:530: ConvergenceWarning: Objective did not converge. You might want to increase the number of iterations. Duality gap: 14331148858.084106, tolerance: 501394598.2019835\n",
      "  model = cd_fast.enet_coordinate_descent(\n",
      "C:\\Users\\moore\\anaconda3\\lib\\site-packages\\sklearn\\linear_model\\_coordinate_descent.py:530: ConvergenceWarning: Objective did not converge. You might want to increase the number of iterations. Duality gap: 1088097967.9101562, tolerance: 510530949.73962504\n",
      "  model = cd_fast.enet_coordinate_descent(\n",
      "C:\\Users\\moore\\anaconda3\\lib\\site-packages\\sklearn\\linear_model\\_coordinate_descent.py:530: ConvergenceWarning: Objective did not converge. You might want to increase the number of iterations. Duality gap: 3148417991.4367676, tolerance: 537505124.4671557\n",
      "  model = cd_fast.enet_coordinate_descent(\n",
      "C:\\Users\\moore\\anaconda3\\lib\\site-packages\\sklearn\\linear_model\\_coordinate_descent.py:530: ConvergenceWarning: Objective did not converge. You might want to increase the number of iterations. Duality gap: 5470023101.076904, tolerance: 645004089.8708483\n",
      "  model = cd_fast.enet_coordinate_descent(\n"
     ]
    },
    {
     "data": {
      "text/plain": [
       "GridSearchCV(estimator=ElasticNet(),\n",
       "             param_grid={'alpha': [0.1, 1, 5, 10, 50, 100],\n",
       "                         'l1_ratio': [0.1, 0.5, 0.7, 0.95, 0.99, 1]})"
      ]
     },
     "execution_count": 43,
     "metadata": {},
     "output_type": "execute_result"
    }
   ],
   "source": [
    "#Run first thing in the morning\n",
    "\n",
    "en_grid.fit(X_train,y_train)"
   ]
  },
  {
   "cell_type": "code",
   "execution_count": 46,
   "id": "562f766e",
   "metadata": {},
   "outputs": [
    {
     "data": {
      "text/plain": [
       "GridSearchCV(estimator=GradientBoostingRegressor(),\n",
       "             param_grid={'learning_rate': [0.2, 0.1, 0.05, 0.001],\n",
       "                         'max_depth': [3, 5, 7, 9],\n",
       "                         'n_estimators': [100, 300, 500, 700]})"
      ]
     },
     "execution_count": 46,
     "metadata": {},
     "output_type": "execute_result"
    }
   ],
   "source": [
    "#Wait until the weekend and run the code \n",
    "\n",
    "gb_grid.fit(X_train,y_train)"
   ]
  },
  {
   "cell_type": "code",
   "execution_count": 50,
   "id": "7abf8a60",
   "metadata": {},
   "outputs": [],
   "source": [
    "#Where Random Forest will go \n",
    "\n",
    "\n",
    "rf_param_grid = {'n_estimators':[20,50,100,300,500,700],\n",
    "                 'max_features':[5,10,20,30,40],\n",
    "                 'bootstrap':[True],\n",
    "                 'oob_score':[True]}"
   ]
  },
  {
   "cell_type": "code",
   "execution_count": 48,
   "id": "36839e91",
   "metadata": {},
   "outputs": [
    {
     "data": {
      "text/plain": [
       "40"
      ]
     },
     "execution_count": 48,
     "metadata": {},
     "output_type": "execute_result"
    }
   ],
   "source": [
    "#Checking amount of features for parameter grid\n",
    "len(X_train.columns)"
   ]
  },
  {
   "cell_type": "code",
   "execution_count": 49,
   "id": "8f9c9d5f",
   "metadata": {},
   "outputs": [
    {
     "data": {
      "text/plain": [
       "40"
      ]
     },
     "execution_count": 49,
     "metadata": {},
     "output_type": "execute_result"
    }
   ],
   "source": [
    "#Double check the amount of features for parameter grid\n",
    "\n",
    "len(model_two_df.index)"
   ]
  },
  {
   "cell_type": "code",
   "execution_count": 51,
   "id": "c9fa7f35",
   "metadata": {},
   "outputs": [],
   "source": [
    "#How many features do I have (use values around n_features, sqrt n_features, or log2 n_features) in param grid = 40\n",
    "\n",
    "#Go back and look at what bootstrapping is and the oob score on udemy or notes (random forest 2 I believe)\n",
    "\n",
    "#make sure to use the same random state when train test spliting or anywhere else that requires you to set a random state.\n",
    "\n",
    "#make sure to look at important features\n",
    "\n",
    "rf_grid = GridSearchCV(rf_model,rf_param_grid)"
   ]
  },
  {
   "cell_type": "code",
   "execution_count": 52,
   "id": "f47373ee",
   "metadata": {},
   "outputs": [
    {
     "name": "stderr",
     "output_type": "stream",
     "text": [
      "C:\\Users\\moore\\anaconda3\\lib\\site-packages\\sklearn\\ensemble\\_forest.py:833: UserWarning: Some inputs do not have OOB scores. This probably means too few trees were used to compute any reliable oob estimates.\n",
      "  warn(\"Some inputs do not have OOB scores. \"\n",
      "C:\\Users\\moore\\anaconda3\\lib\\site-packages\\sklearn\\ensemble\\_forest.py:833: UserWarning: Some inputs do not have OOB scores. This probably means too few trees were used to compute any reliable oob estimates.\n",
      "  warn(\"Some inputs do not have OOB scores. \"\n",
      "C:\\Users\\moore\\anaconda3\\lib\\site-packages\\sklearn\\ensemble\\_forest.py:833: UserWarning: Some inputs do not have OOB scores. This probably means too few trees were used to compute any reliable oob estimates.\n",
      "  warn(\"Some inputs do not have OOB scores. \"\n",
      "C:\\Users\\moore\\anaconda3\\lib\\site-packages\\sklearn\\ensemble\\_forest.py:833: UserWarning: Some inputs do not have OOB scores. This probably means too few trees were used to compute any reliable oob estimates.\n",
      "  warn(\"Some inputs do not have OOB scores. \"\n",
      "C:\\Users\\moore\\anaconda3\\lib\\site-packages\\sklearn\\ensemble\\_forest.py:833: UserWarning: Some inputs do not have OOB scores. This probably means too few trees were used to compute any reliable oob estimates.\n",
      "  warn(\"Some inputs do not have OOB scores. \"\n",
      "C:\\Users\\moore\\anaconda3\\lib\\site-packages\\sklearn\\ensemble\\_forest.py:833: UserWarning: Some inputs do not have OOB scores. This probably means too few trees were used to compute any reliable oob estimates.\n",
      "  warn(\"Some inputs do not have OOB scores. \"\n"
     ]
    },
    {
     "data": {
      "text/plain": [
       "GridSearchCV(estimator=RandomForestRegressor(),\n",
       "             param_grid={'bootstrap': [True],\n",
       "                         'max_features': [5, 10, 20, 30, 40],\n",
       "                         'n_estimators': [20, 50, 100, 300, 500, 700],\n",
       "                         'oob_score': [True]})"
      ]
     },
     "execution_count": 52,
     "metadata": {},
     "output_type": "execute_result"
    }
   ],
   "source": [
    "rf_grid.fit(X_train,y_train)"
   ]
  },
  {
   "cell_type": "code",
   "execution_count": 53,
   "id": "f6e42e95",
   "metadata": {},
   "outputs": [
    {
     "data": {
      "text/plain": [
       "{'learning_rate': 0.05, 'max_depth': 3, 'n_estimators': 100}"
      ]
     },
     "execution_count": 53,
     "metadata": {},
     "output_type": "execute_result"
    }
   ],
   "source": [
    "gb_grid.best_params_"
   ]
  },
  {
   "cell_type": "code",
   "execution_count": 54,
   "id": "79fbdfc8",
   "metadata": {},
   "outputs": [
    {
     "data": {
      "text/plain": [
       "{'alpha': 100, 'l1_ratio': 1}"
      ]
     },
     "execution_count": 54,
     "metadata": {},
     "output_type": "execute_result"
    }
   ],
   "source": [
    "#Based on L1_ratio I going to as Lasso Regression as another model\n",
    "\n",
    "en_grid.best_params_"
   ]
  },
  {
   "cell_type": "code",
   "execution_count": 55,
   "id": "50ac96cd",
   "metadata": {},
   "outputs": [
    {
     "data": {
      "text/plain": [
       "{'bootstrap': True, 'max_features': 10, 'n_estimators': 100, 'oob_score': True}"
      ]
     },
     "execution_count": 55,
     "metadata": {},
     "output_type": "execute_result"
    }
   ],
   "source": [
    "rf_grid.best_params_"
   ]
  },
  {
   "cell_type": "code",
   "execution_count": 56,
   "id": "e068ae90",
   "metadata": {},
   "outputs": [],
   "source": [
    "from sklearn.linear_model import LassoCV\n",
    "lasso_model = LassoCV()"
   ]
  },
  {
   "cell_type": "code",
   "execution_count": 93,
   "id": "7afcabc2",
   "metadata": {},
   "outputs": [],
   "source": [
    "#Parameter grid adjustment number 2\n",
    "\n",
    "gb_param_grid = {'n_estimators':[100,300,500,700],\n",
    "             'learning_rate':[0.01,0.05,0.08],\n",
    "             'max_depth':[2,3,4]}\n",
    "\n",
    "en_param_grid = {'alpha':[80,100,200,300,500], \n",
    "              'l1_ratio':[0.1,0.5,0.7,0.95,0.99,1],\n",
    "                'max_iter':[3000000,5000000,20000000,50000000,100000000]}\n",
    "\n",
    "rf_param_grid = {'n_estimators':[90,100,300,500,700],\n",
    "                 'max_features':[5,10,20,30,40],\n",
    "                 'bootstrap':[True],\n",
    "                 'oob_score':[True]}\n",
    "\n",
    "lasso_param_grid = {'n_alphas':[20,50,100,300,500],\n",
    "                 'max_iter':[3000000,5000000,20000000,50000000,100000000],\n",
    "                 'cv':[2,5,10,50],}"
   ]
  },
  {
   "cell_type": "code",
   "execution_count": 86,
   "id": "33add914",
   "metadata": {},
   "outputs": [],
   "source": [
    "gb_grid = GridSearchCV(gb_model,gb_param_grid)"
   ]
  },
  {
   "cell_type": "code",
   "execution_count": 87,
   "id": "029b1a9d",
   "metadata": {},
   "outputs": [],
   "source": [
    "en_grid = GridSearchCV(en_model,en_param_grid)"
   ]
  },
  {
   "cell_type": "code",
   "execution_count": 94,
   "id": "d298e52c",
   "metadata": {},
   "outputs": [],
   "source": [
    "rf_grid = GridSearchCV(rf_model,rf_param_grid)"
   ]
  },
  {
   "cell_type": "code",
   "execution_count": 89,
   "id": "cc895075",
   "metadata": {},
   "outputs": [],
   "source": [
    "lasso_grid = GridSearchCV(lasso_model,lasso_param_grid)"
   ]
  },
  {
   "cell_type": "code",
   "execution_count": 90,
   "id": "8d0b6d31",
   "metadata": {},
   "outputs": [
    {
     "data": {
      "text/plain": [
       "GridSearchCV(estimator=ElasticNet(),\n",
       "             param_grid={'alpha': [80, 100, 200, 300, 500],\n",
       "                         'l1_ratio': [0.1, 0.5, 0.7, 0.95, 0.99, 1],\n",
       "                         'max_iter': [3000000, 5000000, 20000000, 50000000,\n",
       "                                      100000000]})"
      ]
     },
     "execution_count": 90,
     "metadata": {},
     "output_type": "execute_result"
    }
   ],
   "source": [
    "#Refitting the data to each the model and their new parameters\n",
    "\n",
    "en_grid.fit(X_train,y_train)"
   ]
  },
  {
   "cell_type": "code",
   "execution_count": 91,
   "id": "c4aa6f27",
   "metadata": {},
   "outputs": [
    {
     "data": {
      "text/plain": [
       "GridSearchCV(estimator=GradientBoostingRegressor(),\n",
       "             param_grid={'learning_rate': [0.01, 0.05, 0.08],\n",
       "                         'max_depth': [2, 3, 4],\n",
       "                         'n_estimators': [100, 300, 500, 700]})"
      ]
     },
     "execution_count": 91,
     "metadata": {},
     "output_type": "execute_result"
    }
   ],
   "source": [
    "gb_grid.fit(X_train,y_train)"
   ]
  },
  {
   "cell_type": "code",
   "execution_count": 95,
   "id": "e118da01",
   "metadata": {},
   "outputs": [
    {
     "data": {
      "text/plain": [
       "GridSearchCV(estimator=RandomForestRegressor(),\n",
       "             param_grid={'bootstrap': [True],\n",
       "                         'max_features': [5, 10, 20, 30, 40],\n",
       "                         'n_estimators': [90, 100, 300, 500, 700],\n",
       "                         'oob_score': [True]})"
      ]
     },
     "execution_count": 95,
     "metadata": {},
     "output_type": "execute_result"
    }
   ],
   "source": [
    "rf_grid.fit(X_train,y_train)"
   ]
  },
  {
   "cell_type": "code",
   "execution_count": 92,
   "id": "06c7fb78",
   "metadata": {},
   "outputs": [
    {
     "data": {
      "text/plain": [
       "GridSearchCV(estimator=LassoCV(),\n",
       "             param_grid={'cv': [2, 5, 10, 50],\n",
       "                         'max_iter': [3000000, 5000000, 20000000, 50000000,\n",
       "                                      100000000],\n",
       "                         'n_alphas': [20, 50, 100, 300, 500]})"
      ]
     },
     "execution_count": 92,
     "metadata": {},
     "output_type": "execute_result"
    }
   ],
   "source": [
    "lasso_grid.fit(X_train,y_train)"
   ]
  },
  {
   "cell_type": "code",
   "execution_count": 96,
   "id": "d30cc0bf",
   "metadata": {},
   "outputs": [
    {
     "data": {
      "text/plain": [
       "{'learning_rate': 0.01, 'max_depth': 4, 'n_estimators': 500}"
      ]
     },
     "execution_count": 96,
     "metadata": {},
     "output_type": "execute_result"
    }
   ],
   "source": [
    "#Getting best Parameters\n",
    "gb_grid.best_params_"
   ]
  },
  {
   "cell_type": "code",
   "execution_count": 97,
   "id": "5c8dd85b",
   "metadata": {},
   "outputs": [
    {
     "data": {
      "text/plain": [
       "{'alpha': 200, 'l1_ratio': 1, 'max_iter': 3000000}"
      ]
     },
     "execution_count": 97,
     "metadata": {},
     "output_type": "execute_result"
    }
   ],
   "source": [
    "en_grid.best_params_"
   ]
  },
  {
   "cell_type": "code",
   "execution_count": 98,
   "id": "49d37e88",
   "metadata": {},
   "outputs": [
    {
     "data": {
      "text/plain": [
       "{'bootstrap': True, 'max_features': 10, 'n_estimators': 500, 'oob_score': True}"
      ]
     },
     "execution_count": 98,
     "metadata": {},
     "output_type": "execute_result"
    }
   ],
   "source": [
    "rf_grid.best_params_"
   ]
  },
  {
   "cell_type": "code",
   "execution_count": 99,
   "id": "3383c44e",
   "metadata": {},
   "outputs": [
    {
     "data": {
      "text/plain": [
       "{'cv': 5, 'max_iter': 3000000, 'n_alphas': 20}"
      ]
     },
     "execution_count": 99,
     "metadata": {},
     "output_type": "execute_result"
    }
   ],
   "source": [
    "lasso_grid.best_params_"
   ]
  },
  {
   "cell_type": "code",
   "execution_count": 100,
   "id": "1ad5602e",
   "metadata": {},
   "outputs": [],
   "source": [
    "#Predictions\n",
    "\n",
    "en_preds = en_grid.predict(X_eval)"
   ]
  },
  {
   "cell_type": "code",
   "execution_count": 101,
   "id": "1790fa74",
   "metadata": {},
   "outputs": [],
   "source": [
    "gb_preds = gb_grid.predict(X_eval)"
   ]
  },
  {
   "cell_type": "code",
   "execution_count": 102,
   "id": "5078bcff",
   "metadata": {},
   "outputs": [],
   "source": [
    "rf_preds = rf_grid.predict(X_eval)"
   ]
  },
  {
   "cell_type": "code",
   "execution_count": 103,
   "id": "a6304242",
   "metadata": {},
   "outputs": [],
   "source": [
    "lasso_preds = lasso_grid.predict(X_eval)"
   ]
  },
  {
   "cell_type": "code",
   "execution_count": 107,
   "id": "3fa63577",
   "metadata": {},
   "outputs": [
    {
     "data": {
      "text/plain": [
       "2613368341.8134704"
      ]
     },
     "execution_count": 107,
     "metadata": {},
     "output_type": "execute_result"
    }
   ],
   "source": [
    "#Performance evaluation of the four models on the evaluation (trained data)\n",
    "from sklearn.metrics import mean_absolute_error, mean_squared_error\n",
    "\n",
    "en_MSE = mean_squared_error(y_eval,en_preds)\n",
    "\n",
    "en_MSE\n"
   ]
  },
  {
   "cell_type": "code",
   "execution_count": 108,
   "id": "41ab6884",
   "metadata": {},
   "outputs": [
    {
     "data": {
      "text/plain": [
       "21417.266358848057"
      ]
     },
     "execution_count": 108,
     "metadata": {},
     "output_type": "execute_result"
    }
   ],
   "source": [
    "en_MAE = mean_absolute_error(y_eval, en_preds)\n",
    "\n",
    "en_MAE"
   ]
  },
  {
   "cell_type": "code",
   "execution_count": 109,
   "id": "000d8512",
   "metadata": {},
   "outputs": [
    {
     "data": {
      "text/plain": [
       "3676657908.2137647"
      ]
     },
     "execution_count": 109,
     "metadata": {},
     "output_type": "execute_result"
    }
   ],
   "source": [
    "lasso_MSE = mean_squared_error(y_eval,lasso_preds)\n",
    "\n",
    "lasso_MSE"
   ]
  },
  {
   "cell_type": "code",
   "execution_count": 110,
   "id": "d919d27e",
   "metadata": {},
   "outputs": [
    {
     "data": {
      "text/plain": [
       "25782.267463854605"
      ]
     },
     "execution_count": 110,
     "metadata": {},
     "output_type": "execute_result"
    }
   ],
   "source": [
    "lasso_MAE = mean_absolute_error(y_eval, lasso_preds)\n",
    "\n",
    "lasso_MAE"
   ]
  },
  {
   "cell_type": "code",
   "execution_count": 111,
   "id": "597e41b3",
   "metadata": {},
   "outputs": [
    {
     "data": {
      "text/plain": [
       "804953306.0703298"
      ]
     },
     "execution_count": 111,
     "metadata": {},
     "output_type": "execute_result"
    }
   ],
   "source": [
    "gb_MSE = mean_squared_error(y_eval,gb_preds)\n",
    "\n",
    "gb_MSE"
   ]
  },
  {
   "cell_type": "code",
   "execution_count": 112,
   "id": "a11b5be7",
   "metadata": {},
   "outputs": [
    {
     "data": {
      "text/plain": [
       "17746.957689062678"
      ]
     },
     "execution_count": 112,
     "metadata": {},
     "output_type": "execute_result"
    }
   ],
   "source": [
    "gb_MAE = mean_absolute_error(y_eval, gb_preds)\n",
    "\n",
    "gb_MAE"
   ]
  },
  {
   "cell_type": "code",
   "execution_count": 113,
   "id": "a06dd5c8",
   "metadata": {},
   "outputs": [
    {
     "data": {
      "text/plain": [
       "976394450.4116942"
      ]
     },
     "execution_count": 113,
     "metadata": {},
     "output_type": "execute_result"
    }
   ],
   "source": [
    "rf_MSE = mean_squared_error(y_eval,rf_preds)\n",
    "\n",
    "rf_MSE"
   ]
  },
  {
   "cell_type": "code",
   "execution_count": 114,
   "id": "b02a7148",
   "metadata": {},
   "outputs": [
    {
     "data": {
      "text/plain": [
       "17460.220269732552"
      ]
     },
     "execution_count": 114,
     "metadata": {},
     "output_type": "execute_result"
    }
   ],
   "source": [
    "rf_MAE = mean_absolute_error(y_eval, rf_preds)\n",
    "\n",
    "rf_MAE"
   ]
  },
  {
   "cell_type": "code",
   "execution_count": 120,
   "id": "37a9484b",
   "metadata": {},
   "outputs": [],
   "source": [
    "#Remaking the models based on best parameters\n",
    "\n",
    "final_gb_model = GradientBoostingRegressor(learning_rate = 0.01, max_depth = 4, n_estimators = 500)"
   ]
  },
  {
   "cell_type": "code",
   "execution_count": 119,
   "id": "332d84ac",
   "metadata": {},
   "outputs": [],
   "source": [
    "final_lasso_model = LassoCV(cv = 5, max_iter = 3000000, n_alphas=20)"
   ]
  },
  {
   "cell_type": "code",
   "execution_count": 121,
   "id": "1cf8798e",
   "metadata": {},
   "outputs": [],
   "source": [
    "final_en_model = ElasticNet(alpha = 200, l1_ratio = 1, max_iter = 3000000)"
   ]
  },
  {
   "cell_type": "code",
   "execution_count": 122,
   "id": "b54ac743",
   "metadata": {},
   "outputs": [],
   "source": [
    "final_rf_model = RandomForestRegressor(bootstrap = True, max_features = 10, n_estimators = 500, oob_score = True)"
   ]
  },
  {
   "cell_type": "code",
   "execution_count": 123,
   "id": "32d6a4b3",
   "metadata": {},
   "outputs": [
    {
     "data": {
      "text/plain": [
       "ElasticNet(alpha=200, l1_ratio=1, max_iter=3000000)"
      ]
     },
     "execution_count": 123,
     "metadata": {},
     "output_type": "execute_result"
    }
   ],
   "source": [
    "#Fitting the final models\n",
    "\n",
    "final_en_model.fit(X_train,y_train)"
   ]
  },
  {
   "cell_type": "code",
   "execution_count": 124,
   "id": "842c4c12",
   "metadata": {},
   "outputs": [
    {
     "data": {
      "text/plain": [
       "LassoCV(cv=5, max_iter=3000000, n_alphas=20)"
      ]
     },
     "execution_count": 124,
     "metadata": {},
     "output_type": "execute_result"
    }
   ],
   "source": [
    "final_lasso_model.fit(X_train,y_train)"
   ]
  },
  {
   "cell_type": "code",
   "execution_count": 125,
   "id": "e78278e2",
   "metadata": {},
   "outputs": [
    {
     "data": {
      "text/plain": [
       "GradientBoostingRegressor(learning_rate=0.01, max_depth=4, n_estimators=500)"
      ]
     },
     "execution_count": 125,
     "metadata": {},
     "output_type": "execute_result"
    }
   ],
   "source": [
    "final_gb_model.fit(X_train,y_train)"
   ]
  },
  {
   "cell_type": "code",
   "execution_count": 126,
   "id": "df63a607",
   "metadata": {},
   "outputs": [
    {
     "data": {
      "text/plain": [
       "RandomForestRegressor(max_features=10, n_estimators=500, oob_score=True)"
      ]
     },
     "execution_count": 126,
     "metadata": {},
     "output_type": "execute_result"
    }
   ],
   "source": [
    "final_rf_model.fit(X_train,y_train)"
   ]
  },
  {
   "cell_type": "code",
   "execution_count": 128,
   "id": "b2eb99bf",
   "metadata": {},
   "outputs": [],
   "source": [
    "#Predictions based on final models\n",
    "\n",
    "final_en_preds = final_en_model.predict(X_test)"
   ]
  },
  {
   "cell_type": "code",
   "execution_count": 129,
   "id": "f8c5ba27",
   "metadata": {},
   "outputs": [],
   "source": [
    "final_lasso_preds = final_lasso_model.predict(X_test)"
   ]
  },
  {
   "cell_type": "code",
   "execution_count": 130,
   "id": "a3b79c32",
   "metadata": {},
   "outputs": [],
   "source": [
    "final_gb_preds = final_gb_model.predict(X_test)"
   ]
  },
  {
   "cell_type": "code",
   "execution_count": 131,
   "id": "0a6de9ce",
   "metadata": {},
   "outputs": [],
   "source": [
    "final_rf_preds = final_rf_model.predict(X_test)"
   ]
  },
  {
   "cell_type": "code",
   "execution_count": 132,
   "id": "e4743c67",
   "metadata": {},
   "outputs": [
    {
     "data": {
      "text/plain": [
       "826932163.1269208"
      ]
     },
     "execution_count": 132,
     "metadata": {},
     "output_type": "execute_result"
    }
   ],
   "source": [
    "#Performance evaluation of the four models on the test(trained data)\n",
    "\n",
    "final_en_MSE = mean_squared_error(y_test,final_en_preds)\n",
    "\n",
    "final_en_MSE"
   ]
  },
  {
   "cell_type": "code",
   "execution_count": 134,
   "id": "09feb5df",
   "metadata": {},
   "outputs": [
    {
     "data": {
      "text/plain": [
       "1465886509.3508306"
      ]
     },
     "execution_count": 134,
     "metadata": {},
     "output_type": "execute_result"
    }
   ],
   "source": [
    "final_lasso_MSE = mean_squared_error(y_test,final_lasso_preds)\n",
    "\n",
    "final_lasso_MSE"
   ]
  },
  {
   "cell_type": "code",
   "execution_count": 135,
   "id": "b7f07f8d",
   "metadata": {},
   "outputs": [
    {
     "data": {
      "text/plain": [
       "639577236.0545974"
      ]
     },
     "execution_count": 135,
     "metadata": {},
     "output_type": "execute_result"
    }
   ],
   "source": [
    "final_gb_MSE = mean_squared_error(y_test,final_gb_preds)\n",
    "\n",
    "final_gb_MSE"
   ]
  },
  {
   "cell_type": "code",
   "execution_count": 136,
   "id": "50112a9b",
   "metadata": {},
   "outputs": [
    {
     "data": {
      "text/plain": [
       "761667203.5451283"
      ]
     },
     "execution_count": 136,
     "metadata": {},
     "output_type": "execute_result"
    }
   ],
   "source": [
    "final_rf_MSE = mean_squared_error(y_test,final_rf_preds)\n",
    "\n",
    "final_rf_MSE"
   ]
  },
  {
   "cell_type": "code",
   "execution_count": 138,
   "id": "2a8076ee",
   "metadata": {},
   "outputs": [
    {
     "data": {
      "text/plain": [
       "16851.80279722586"
      ]
     },
     "execution_count": 138,
     "metadata": {},
     "output_type": "execute_result"
    }
   ],
   "source": [
    "final_gb_MAE = mean_absolute_error(y_test, final_gb_preds)\n",
    "\n",
    "final_gb_MAE"
   ]
  },
  {
   "cell_type": "code",
   "execution_count": 140,
   "id": "976b8e2c",
   "metadata": {},
   "outputs": [
    {
     "data": {
      "text/plain": [
       "17566.229878995433"
      ]
     },
     "execution_count": 140,
     "metadata": {},
     "output_type": "execute_result"
    }
   ],
   "source": [
    "final_rf_MAE = mean_absolute_error(y_test, final_rf_preds)\n",
    "\n",
    "final_rf_MAE"
   ]
  },
  {
   "cell_type": "code",
   "execution_count": 141,
   "id": "1229de53",
   "metadata": {},
   "outputs": [
    {
     "data": {
      "text/plain": [
       "19648.399772944136"
      ]
     },
     "execution_count": 141,
     "metadata": {},
     "output_type": "execute_result"
    }
   ],
   "source": [
    "final_en_MAE = mean_absolute_error(y_test, final_en_preds)\n",
    "\n",
    "final_en_MAE"
   ]
  },
  {
   "cell_type": "code",
   "execution_count": 142,
   "id": "e9856bb4",
   "metadata": {},
   "outputs": [
    {
     "data": {
      "text/plain": [
       "26758.300250730106"
      ]
     },
     "execution_count": 142,
     "metadata": {},
     "output_type": "execute_result"
    }
   ],
   "source": [
    "final_lasso_MAE = mean_absolute_error(y_test, final_lasso_preds)\n",
    "\n",
    "final_lasso_MAE"
   ]
  },
  {
   "cell_type": "code",
   "execution_count": 144,
   "id": "ab66735b",
   "metadata": {},
   "outputs": [
    {
     "data": {
      "text/plain": [
       "28756.42820530604"
      ]
     },
     "execution_count": 144,
     "metadata": {},
     "output_type": "execute_result"
    }
   ],
   "source": [
    "#Root Mean Squared Error for all models\n",
    "\n",
    "en_rmse = np.sqrt(final_en_MSE)\n",
    "\n",
    "en_rmse"
   ]
  },
  {
   "cell_type": "code",
   "execution_count": 145,
   "id": "ea339d42",
   "metadata": {},
   "outputs": [
    {
     "data": {
      "text/plain": [
       "38286.89735863733"
      ]
     },
     "execution_count": 145,
     "metadata": {},
     "output_type": "execute_result"
    }
   ],
   "source": [
    "lasso_rmse = np.sqrt(final_lasso_MSE)\n",
    "\n",
    "lasso_rmse"
   ]
  },
  {
   "cell_type": "code",
   "execution_count": 146,
   "id": "1a89cb58",
   "metadata": {},
   "outputs": [
    {
     "data": {
      "text/plain": [
       "25289.86429490276"
      ]
     },
     "execution_count": 146,
     "metadata": {},
     "output_type": "execute_result"
    }
   ],
   "source": [
    "gb_rmse = np.sqrt(final_gb_MSE)\n",
    "\n",
    "gb_rmse"
   ]
  },
  {
   "cell_type": "code",
   "execution_count": 147,
   "id": "fb1c8b02",
   "metadata": {},
   "outputs": [
    {
     "data": {
      "text/plain": [
       "27598.31885360281"
      ]
     },
     "execution_count": 147,
     "metadata": {},
     "output_type": "execute_result"
    }
   ],
   "source": [
    "rf_rmse = np.sqrt(final_rf_MSE)\n",
    "\n",
    "rf_rmse"
   ]
  },
  {
   "cell_type": "code",
   "execution_count": null,
   "id": "a54de48d",
   "metadata": {},
   "outputs": [],
   "source": []
  },
  {
   "cell_type": "code",
   "execution_count": null,
   "id": "e5b446e2",
   "metadata": {},
   "outputs": [],
   "source": []
  }
 ],
 "metadata": {
  "kernelspec": {
   "display_name": "Python 3 (ipykernel)",
   "language": "python",
   "name": "python3"
  },
  "language_info": {
   "codemirror_mode": {
    "name": "ipython",
    "version": 3
   },
   "file_extension": ".py",
   "mimetype": "text/x-python",
   "name": "python",
   "nbconvert_exporter": "python",
   "pygments_lexer": "ipython3",
   "version": "3.9.7"
  }
 },
 "nbformat": 4,
 "nbformat_minor": 5
}
